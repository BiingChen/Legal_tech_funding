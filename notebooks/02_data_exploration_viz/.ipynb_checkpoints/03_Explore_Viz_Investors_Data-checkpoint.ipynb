{
 "cells": [
  {
   "cell_type": "markdown",
   "metadata": {},
   "source": [
    "# 03 Explore and Viz Investors Data"
   ]
  },
  {
   "cell_type": "markdown",
   "metadata": {},
   "source": [
    "## Import modules"
   ]
  },
  {
   "cell_type": "code",
   "execution_count": 1,
   "metadata": {},
   "outputs": [],
   "source": [
    "import pandas as pd\n",
    "import seaborn as sns\n",
    "from matplotlib import pyplot as plt\n",
    "\n",
    "%matplotlib inline"
   ]
  },
  {
   "cell_type": "markdown",
   "metadata": {},
   "source": [
    "## Import data"
   ]
  },
  {
   "cell_type": "code",
   "execution_count": 2,
   "metadata": {},
   "outputs": [
    {
     "name": "stdout",
     "output_type": "stream",
     "text": [
      "deals.csv     firms.csv     investors.csv\r\n"
     ]
    }
   ],
   "source": [
    "! ls ../../data/interim/"
   ]
  },
  {
   "cell_type": "code",
   "execution_count": 3,
   "metadata": {},
   "outputs": [
    {
     "data": {
      "text/html": [
       "<div>\n",
       "<style scoped>\n",
       "    .dataframe tbody tr th:only-of-type {\n",
       "        vertical-align: middle;\n",
       "    }\n",
       "\n",
       "    .dataframe tbody tr th {\n",
       "        vertical-align: top;\n",
       "    }\n",
       "\n",
       "    .dataframe thead th {\n",
       "        text-align: right;\n",
       "    }\n",
       "</style>\n",
       "<table border=\"1\" class=\"dataframe\">\n",
       "  <thead>\n",
       "    <tr style=\"text-align: right;\">\n",
       "      <th></th>\n",
       "      <th>deal_id</th>\n",
       "      <th>deal_date</th>\n",
       "      <th>deal_year</th>\n",
       "      <th>firm_name</th>\n",
       "      <th>firm_id</th>\n",
       "      <th>round_total_raw</th>\n",
       "      <th>round_total</th>\n",
       "      <th>num_investors</th>\n",
       "      <th>avg_invest_per_investor</th>\n",
       "      <th>investor_name</th>\n",
       "      <th>...</th>\n",
       "      <th>year_founded</th>\n",
       "      <th>codex_category</th>\n",
       "      <th>market</th>\n",
       "      <th>problem_1</th>\n",
       "      <th>problem_2</th>\n",
       "      <th>problem_3</th>\n",
       "      <th>analytics</th>\n",
       "      <th>ai</th>\n",
       "      <th>point_integrated</th>\n",
       "      <th>firm_age</th>\n",
       "    </tr>\n",
       "  </thead>\n",
       "  <tbody>\n",
       "    <tr>\n",
       "      <th>0</th>\n",
       "      <td>DEAL0001</td>\n",
       "      <td>2000-03-22</td>\n",
       "      <td>2000</td>\n",
       "      <td>LexisNexis</td>\n",
       "      <td>FIRM0002</td>\n",
       "      <td>30000000</td>\n",
       "      <td>30000000.0</td>\n",
       "      <td>5</td>\n",
       "      <td>6000000.0</td>\n",
       "      <td>Actua Corporation</td>\n",
       "      <td>...</td>\n",
       "      <td>1973</td>\n",
       "      <td>Legal Research</td>\n",
       "      <td>Corporate</td>\n",
       "      <td>Legal Research</td>\n",
       "      <td>Other Practice Tech</td>\n",
       "      <td>NONE</td>\n",
       "      <td>1.0</td>\n",
       "      <td>0.0</td>\n",
       "      <td>Integrated Solution</td>\n",
       "      <td>27</td>\n",
       "    </tr>\n",
       "    <tr>\n",
       "      <th>1</th>\n",
       "      <td>DEAL0001</td>\n",
       "      <td>2000-03-22</td>\n",
       "      <td>2000</td>\n",
       "      <td>LexisNexis</td>\n",
       "      <td>FIRM0002</td>\n",
       "      <td>above</td>\n",
       "      <td>30000000.0</td>\n",
       "      <td>5</td>\n",
       "      <td>6000000.0</td>\n",
       "      <td>Commerce One</td>\n",
       "      <td>...</td>\n",
       "      <td>1973</td>\n",
       "      <td>Legal Research</td>\n",
       "      <td>Corporate</td>\n",
       "      <td>Legal Research</td>\n",
       "      <td>Other Practice Tech</td>\n",
       "      <td>NONE</td>\n",
       "      <td>1.0</td>\n",
       "      <td>0.0</td>\n",
       "      <td>Integrated Solution</td>\n",
       "      <td>27</td>\n",
       "    </tr>\n",
       "    <tr>\n",
       "      <th>2</th>\n",
       "      <td>DEAL0001</td>\n",
       "      <td>2000-03-22</td>\n",
       "      <td>2000</td>\n",
       "      <td>LexisNexis</td>\n",
       "      <td>FIRM0002</td>\n",
       "      <td>above</td>\n",
       "      <td>30000000.0</td>\n",
       "      <td>5</td>\n",
       "      <td>6000000.0</td>\n",
       "      <td>Kaplan</td>\n",
       "      <td>...</td>\n",
       "      <td>1973</td>\n",
       "      <td>Legal Research</td>\n",
       "      <td>Corporate</td>\n",
       "      <td>Legal Research</td>\n",
       "      <td>Other Practice Tech</td>\n",
       "      <td>NONE</td>\n",
       "      <td>1.0</td>\n",
       "      <td>0.0</td>\n",
       "      <td>Integrated Solution</td>\n",
       "      <td>27</td>\n",
       "    </tr>\n",
       "  </tbody>\n",
       "</table>\n",
       "<p>3 rows × 23 columns</p>\n",
       "</div>"
      ],
      "text/plain": [
       "    deal_id   deal_date  deal_year   firm_name   firm_id round_total_raw  \\\n",
       "0  DEAL0001  2000-03-22       2000  LexisNexis  FIRM0002        30000000   \n",
       "1  DEAL0001  2000-03-22       2000  LexisNexis  FIRM0002           above   \n",
       "2  DEAL0001  2000-03-22       2000  LexisNexis  FIRM0002           above   \n",
       "\n",
       "   round_total  num_investors  avg_invest_per_investor      investor_name  \\\n",
       "0   30000000.0              5                6000000.0  Actua Corporation   \n",
       "1   30000000.0              5                6000000.0       Commerce One   \n",
       "2   30000000.0              5                6000000.0             Kaplan   \n",
       "\n",
       "     ...    year_founded  codex_category     market       problem_1  \\\n",
       "0    ...            1973  Legal Research  Corporate  Legal Research   \n",
       "1    ...            1973  Legal Research  Corporate  Legal Research   \n",
       "2    ...            1973  Legal Research  Corporate  Legal Research   \n",
       "\n",
       "             problem_2 problem_3 analytics   ai     point_integrated  firm_age  \n",
       "0  Other Practice Tech      NONE       1.0  0.0  Integrated Solution        27  \n",
       "1  Other Practice Tech      NONE       1.0  0.0  Integrated Solution        27  \n",
       "2  Other Practice Tech      NONE       1.0  0.0  Integrated Solution        27  \n",
       "\n",
       "[3 rows x 23 columns]"
      ]
     },
     "execution_count": 3,
     "metadata": {},
     "output_type": "execute_result"
    }
   ],
   "source": [
    "filepath = '../../data/interim/investors.csv'\n",
    "df = pd.read_csv(filepath, index_col = 0)\n",
    "df.head(3)"
   ]
  },
  {
   "cell_type": "markdown",
   "metadata": {},
   "source": [
    "## Now you can do some visualization here...."
   ]
  },
  {
   "cell_type": "markdown",
   "metadata": {},
   "source": [
    "Do some charts and graphs with investors later.  First try sankey diagrams"
   ]
  },
  {
   "cell_type": "markdown",
   "metadata": {},
   "source": [
    "## Create sankey graph to show flow of funding"
   ]
  },
  {
   "cell_type": "markdown",
   "metadata": {},
   "source": [
    "Click here for: [Sankey for funding](12_Sankey_for_funding.ipynb)"
   ]
  }
 ],
 "metadata": {
  "kernelspec": {
   "display_name": "Python 3",
   "language": "python",
   "name": "python3"
  },
  "language_info": {
   "codemirror_mode": {
    "name": "ipython",
    "version": 3
   },
   "file_extension": ".py",
   "mimetype": "text/x-python",
   "name": "python",
   "nbconvert_exporter": "python",
   "pygments_lexer": "ipython3",
   "version": "3.6.4"
  }
 },
 "nbformat": 4,
 "nbformat_minor": 2
}
