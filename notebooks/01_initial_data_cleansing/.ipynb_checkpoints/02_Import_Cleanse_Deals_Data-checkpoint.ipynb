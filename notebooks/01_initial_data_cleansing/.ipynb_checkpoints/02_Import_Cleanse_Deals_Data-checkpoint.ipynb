{
 "cells": [
  {
   "cell_type": "markdown",
   "metadata": {},
   "source": [
    "# 02 Import and cleanse deals (funding) data"
   ]
  },
  {
   "cell_type": "markdown",
   "metadata": {},
   "source": [
    "## Import modules & settings"
   ]
  },
  {
   "cell_type": "code",
   "execution_count": 17,
   "metadata": {},
   "outputs": [],
   "source": [
    "import pandas as pd\n",
    "import seaborn as sns\n",
    "from matplotlib import pyplot as plt\n",
    "\n",
    "%matplotlib inline"
   ]
  },
  {
   "cell_type": "markdown",
   "metadata": {},
   "source": [
    "## Import raw data"
   ]
  },
  {
   "cell_type": "code",
   "execution_count": 18,
   "metadata": {},
   "outputs": [
    {
     "name": "stdout",
     "output_type": "stream",
     "text": [
      "Datasheet_Cleansed.xlsx Datasheet_Raw.xlsx\r\n"
     ]
    }
   ],
   "source": [
    "# Find file location\n",
    "!ls ../../data/raw/"
   ]
  },
  {
   "cell_type": "code",
   "execution_count": 19,
   "metadata": {},
   "outputs": [
    {
     "data": {
      "text/html": [
       "<div>\n",
       "<style scoped>\n",
       "    .dataframe tbody tr th:only-of-type {\n",
       "        vertical-align: middle;\n",
       "    }\n",
       "\n",
       "    .dataframe tbody tr th {\n",
       "        vertical-align: top;\n",
       "    }\n",
       "\n",
       "    .dataframe thead th {\n",
       "        text-align: right;\n",
       "    }\n",
       "</style>\n",
       "<table border=\"1\" class=\"dataframe\">\n",
       "  <thead>\n",
       "    <tr style=\"text-align: right;\">\n",
       "      <th></th>\n",
       "      <th>Deal ID</th>\n",
       "      <th>Deal Date</th>\n",
       "      <th>Deal Y</th>\n",
       "      <th>Firm</th>\n",
       "      <th>Unique ID Lookup</th>\n",
       "      <th>Round Total ($)</th>\n",
       "      <th>Deal Type</th>\n",
       "      <th>Country</th>\n",
       "      <th>Head office</th>\n",
       "      <th>Year founded</th>\n",
       "      <th>CodeX Category</th>\n",
       "    </tr>\n",
       "  </thead>\n",
       "  <tbody>\n",
       "    <tr>\n",
       "      <th>0</th>\n",
       "      <td>DEAL0001</td>\n",
       "      <td>2000-03-22</td>\n",
       "      <td>2000</td>\n",
       "      <td>LexisNexis</td>\n",
       "      <td>FIRM0002</td>\n",
       "      <td>30000000.0</td>\n",
       "      <td>Venture Capital</td>\n",
       "      <td>USA</td>\n",
       "      <td>New York</td>\n",
       "      <td>1973</td>\n",
       "      <td>Legal Research</td>\n",
       "    </tr>\n",
       "    <tr>\n",
       "      <th>1</th>\n",
       "      <td>DEAL0002</td>\n",
       "      <td>2002-10-03</td>\n",
       "      <td>2002</td>\n",
       "      <td>Workshare</td>\n",
       "      <td>FIRM0027</td>\n",
       "      <td>4500000.0</td>\n",
       "      <td>Series A</td>\n",
       "      <td>UK</td>\n",
       "      <td>London</td>\n",
       "      <td>1999</td>\n",
       "      <td>Legal Analytics</td>\n",
       "    </tr>\n",
       "    <tr>\n",
       "      <th>2</th>\n",
       "      <td>DEAL0003</td>\n",
       "      <td>2003-01-01</td>\n",
       "      <td>2003</td>\n",
       "      <td>DocuSign</td>\n",
       "      <td>FIRM0045</td>\n",
       "      <td>NaN</td>\n",
       "      <td>Seed Fund</td>\n",
       "      <td>USA</td>\n",
       "      <td>San Francisco</td>\n",
       "      <td>2003</td>\n",
       "      <td>Legal Practice Management</td>\n",
       "    </tr>\n",
       "    <tr>\n",
       "      <th>3</th>\n",
       "      <td>DEAL0004</td>\n",
       "      <td>2003-10-01</td>\n",
       "      <td>2003</td>\n",
       "      <td>XMLAW</td>\n",
       "      <td>FIRM0051</td>\n",
       "      <td>150000.0</td>\n",
       "      <td>Seed Fund</td>\n",
       "      <td>USA</td>\n",
       "      <td>Boston</td>\n",
       "      <td>2003</td>\n",
       "      <td>Legal Practice Management</td>\n",
       "    </tr>\n",
       "    <tr>\n",
       "      <th>4</th>\n",
       "      <td>DEAL0005</td>\n",
       "      <td>2004-01-01</td>\n",
       "      <td>2004</td>\n",
       "      <td>Gust</td>\n",
       "      <td>FIRM0053</td>\n",
       "      <td>NaN</td>\n",
       "      <td>Series A</td>\n",
       "      <td>USA</td>\n",
       "      <td>New York</td>\n",
       "      <td>2004</td>\n",
       "      <td>Legal Marketplace</td>\n",
       "    </tr>\n",
       "  </tbody>\n",
       "</table>\n",
       "</div>"
      ],
      "text/plain": [
       "    Deal ID  Deal Date  Deal Y        Firm Unique ID Lookup  Round Total ($)  \\\n",
       "0  DEAL0001 2000-03-22    2000  LexisNexis         FIRM0002       30000000.0   \n",
       "1  DEAL0002 2002-10-03    2002   Workshare         FIRM0027        4500000.0   \n",
       "2  DEAL0003 2003-01-01    2003    DocuSign         FIRM0045              NaN   \n",
       "3  DEAL0004 2003-10-01    2003       XMLAW         FIRM0051         150000.0   \n",
       "4  DEAL0005 2004-01-01    2004        Gust         FIRM0053              NaN   \n",
       "\n",
       "         Deal Type Country    Head office  Year founded  \\\n",
       "0  Venture Capital     USA       New York          1973   \n",
       "1         Series A      UK         London          1999   \n",
       "2        Seed Fund     USA  San Francisco          2003   \n",
       "3        Seed Fund     USA         Boston          2003   \n",
       "4         Series A     USA       New York          2004   \n",
       "\n",
       "              CodeX Category  \n",
       "0             Legal Research  \n",
       "1            Legal Analytics  \n",
       "2  Legal Practice Management  \n",
       "3  Legal Practice Management  \n",
       "4          Legal Marketplace  "
      ]
     },
     "execution_count": 19,
     "metadata": {},
     "output_type": "execute_result"
    }
   ],
   "source": [
    "file_path = '../../data/raw/Datasheet_Cleansed.xlsx'\n",
    "df = pd.read_excel(file_path, sheet_name='Funding_Startup')\n",
    "\n",
    "df.head()"
   ]
  },
  {
   "cell_type": "markdown",
   "metadata": {},
   "source": [
    "## Clean up headers to make it easier to access"
   ]
  },
  {
   "cell_type": "code",
   "execution_count": 20,
   "metadata": {},
   "outputs": [
    {
     "data": {
      "text/plain": [
       "['deal id',\n",
       " 'deal date',\n",
       " 'deal y',\n",
       " 'firm',\n",
       " 'unique id lookup',\n",
       " 'round total ($)',\n",
       " 'deal type',\n",
       " 'country',\n",
       " 'head office',\n",
       " 'year founded',\n",
       " 'codex category']"
      ]
     },
     "execution_count": 20,
     "metadata": {},
     "output_type": "execute_result"
    }
   ],
   "source": [
    "[col.lower() for col in df.columns]"
   ]
  },
  {
   "cell_type": "code",
   "execution_count": 21,
   "metadata": {},
   "outputs": [],
   "source": [
    "cols = ['deal_ id','deal_date','deal_year','firm_name','firm_id','round_total','deal_type','country','city',\n",
    "        'year_founded','codex_category']\n",
    "df.columns = cols"
   ]
  },
  {
   "cell_type": "code",
   "execution_count": 22,
   "metadata": {},
   "outputs": [
    {
     "data": {
      "text/plain": [
       "(541, 11)"
      ]
     },
     "execution_count": 22,
     "metadata": {},
     "output_type": "execute_result"
    }
   ],
   "source": [
    "# How many total records and missing data do we have?\n",
    "df.shape"
   ]
  },
  {
   "cell_type": "markdown",
   "metadata": {},
   "source": [
    "**Note:** We have 541 rows.  What does each row represent?  An instance of a legal tech firm receiving funding.  <br>\n",
    "<br>\n",
    "How much missing data do we have?"
   ]
  },
  {
   "cell_type": "code",
   "execution_count": 23,
   "metadata": {},
   "outputs": [
    {
     "name": "stdout",
     "output_type": "stream",
     "text": [
      "122 of the 541 rows are missing funding data. This represents 0.23 of the data.\n"
     ]
    }
   ],
   "source": [
    "missing_rows = df.round_total.isnull().sum()\n",
    "total_rows = df.shape[0]\n",
    "percent = missing_rows/total_rows\n",
    "\n",
    "print(f\"{missing_rows} of the {total_rows} rows are missing funding data. This represents {percent:.2} of the data.\")\n"
   ]
  },
  {
   "cell_type": "markdown",
   "metadata": {},
   "source": [
    "## Drop the rows with nulls for initial analysis"
   ]
  },
  {
   "cell_type": "code",
   "execution_count": 24,
   "metadata": {},
   "outputs": [
    {
     "name": "stdout",
     "output_type": "stream",
     "text": [
      "There are 541 rows before dropping, and 419 after.\n"
     ]
    }
   ],
   "source": [
    "before_drop = df.shape\n",
    "after_drop = df.dropna().shape\n",
    "print(f\"There are {before_drop[0]} rows before dropping, and {after_drop[0]} after.\")\n",
    "df = df.dropna()"
   ]
  },
  {
   "cell_type": "markdown",
   "metadata": {},
   "source": [
    "## A bit of quick feature engineering. firm_age at funding"
   ]
  },
  {
   "cell_type": "code",
   "execution_count": 25,
   "metadata": {},
   "outputs": [],
   "source": [
    "df['firm_age'] = (df.deal_year - df.year_founded)\n",
    "\n",
    "# Some of the firm age shows negative.  Set to 0\n",
    "df.loc[df.firm_age <0, 'firm_age'] = 0"
   ]
  },
  {
   "cell_type": "markdown",
   "metadata": {},
   "source": [
    "## Export the cleansed file"
   ]
  },
  {
   "cell_type": "code",
   "execution_count": 26,
   "metadata": {},
   "outputs": [
    {
     "name": "stdout",
     "output_type": "stream",
     "text": [
      "datasheet_1.csv      firms.csv            investors.csv\r\n",
      "deals.csv            funding_investor.csv\r\n"
     ]
    }
   ],
   "source": [
    "! ls ../../data/interim"
   ]
  },
  {
   "cell_type": "code",
   "execution_count": 27,
   "metadata": {},
   "outputs": [],
   "source": [
    "file_path = '../../data/interim/deals.csv'\n",
    "df.to_csv(file_path)"
   ]
  }
 ],
 "metadata": {
  "kernelspec": {
   "display_name": "Python 3",
   "language": "python",
   "name": "python3"
  },
  "language_info": {
   "codemirror_mode": {
    "name": "ipython",
    "version": 3
   },
   "file_extension": ".py",
   "mimetype": "text/x-python",
   "name": "python",
   "nbconvert_exporter": "python",
   "pygments_lexer": "ipython3",
   "version": "3.6.4"
  }
 },
 "nbformat": 4,
 "nbformat_minor": 2
}
