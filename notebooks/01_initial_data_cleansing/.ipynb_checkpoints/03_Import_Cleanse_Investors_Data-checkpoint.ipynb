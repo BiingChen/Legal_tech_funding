{
 "cells": [
  {
   "cell_type": "markdown",
   "metadata": {},
   "source": [
    "# 03 Import and cleanse investors data"
   ]
  },
  {
   "cell_type": "markdown",
   "metadata": {},
   "source": [
    "## Import modules"
   ]
  },
  {
   "cell_type": "code",
   "execution_count": 1,
   "metadata": {},
   "outputs": [],
   "source": [
    "import pandas as pd\n",
    "import numpy as np\n",
    "import os\n",
    "pd.options.display.max_columns = 60"
   ]
  },
  {
   "cell_type": "markdown",
   "metadata": {},
   "source": [
    "## Import raw data"
   ]
  },
  {
   "cell_type": "code",
   "execution_count": 2,
   "metadata": {},
   "outputs": [
    {
     "name": "stdout",
     "output_type": "stream",
     "text": [
      "Datasheet_Cleansed.xlsx Datasheet_Raw.xlsx\r\n"
     ]
    }
   ],
   "source": [
    "# Find file location\n",
    "!ls ../../data/raw/"
   ]
  },
  {
   "cell_type": "code",
   "execution_count": 3,
   "metadata": {},
   "outputs": [
    {
     "data": {
      "text/html": [
       "<div>\n",
       "<style scoped>\n",
       "    .dataframe tbody tr th:only-of-type {\n",
       "        vertical-align: middle;\n",
       "    }\n",
       "\n",
       "    .dataframe tbody tr th {\n",
       "        vertical-align: top;\n",
       "    }\n",
       "\n",
       "    .dataframe thead th {\n",
       "        text-align: right;\n",
       "    }\n",
       "</style>\n",
       "<table border=\"1\" class=\"dataframe\">\n",
       "  <thead>\n",
       "    <tr style=\"text-align: right;\">\n",
       "      <th></th>\n",
       "      <th>Deal ID</th>\n",
       "      <th>Deal Date</th>\n",
       "      <th>Deal Y</th>\n",
       "      <th>Firm</th>\n",
       "      <th>Unique ID Lookup</th>\n",
       "      <th>Round Total ($)</th>\n",
       "      <th>Round Total</th>\n",
       "      <th># of investors</th>\n",
       "      <th>Avg/Investor</th>\n",
       "      <th>Participating Investor</th>\n",
       "      <th>Deal Type</th>\n",
       "      <th>Country</th>\n",
       "      <th>Head office</th>\n",
       "      <th>Year founded</th>\n",
       "      <th>CodeX Category</th>\n",
       "    </tr>\n",
       "  </thead>\n",
       "  <tbody>\n",
       "    <tr>\n",
       "      <th>0</th>\n",
       "      <td>DEAL0001</td>\n",
       "      <td>2000-03-22</td>\n",
       "      <td>2000</td>\n",
       "      <td>LexisNexis</td>\n",
       "      <td>FIRM0002</td>\n",
       "      <td>30000000</td>\n",
       "      <td>30000000.0</td>\n",
       "      <td>5</td>\n",
       "      <td>6000000.0</td>\n",
       "      <td>Actua Corporation</td>\n",
       "      <td>Venture Capital</td>\n",
       "      <td>USA</td>\n",
       "      <td>New York</td>\n",
       "      <td>1973</td>\n",
       "      <td>Legal Research</td>\n",
       "    </tr>\n",
       "    <tr>\n",
       "      <th>1</th>\n",
       "      <td>DEAL0001</td>\n",
       "      <td>2000-03-22</td>\n",
       "      <td>2000</td>\n",
       "      <td>LexisNexis</td>\n",
       "      <td>FIRM0002</td>\n",
       "      <td>above</td>\n",
       "      <td>30000000.0</td>\n",
       "      <td>5</td>\n",
       "      <td>6000000.0</td>\n",
       "      <td>Commerce One</td>\n",
       "      <td>Venture Capital</td>\n",
       "      <td>USA</td>\n",
       "      <td>New York</td>\n",
       "      <td>1973</td>\n",
       "      <td>Legal Research</td>\n",
       "    </tr>\n",
       "    <tr>\n",
       "      <th>2</th>\n",
       "      <td>DEAL0001</td>\n",
       "      <td>2000-03-22</td>\n",
       "      <td>2000</td>\n",
       "      <td>LexisNexis</td>\n",
       "      <td>FIRM0002</td>\n",
       "      <td>above</td>\n",
       "      <td>30000000.0</td>\n",
       "      <td>5</td>\n",
       "      <td>6000000.0</td>\n",
       "      <td>Kaplan</td>\n",
       "      <td>Venture Capital</td>\n",
       "      <td>USA</td>\n",
       "      <td>New York</td>\n",
       "      <td>1973</td>\n",
       "      <td>Legal Research</td>\n",
       "    </tr>\n",
       "    <tr>\n",
       "      <th>3</th>\n",
       "      <td>DEAL0001</td>\n",
       "      <td>2000-03-22</td>\n",
       "      <td>2000</td>\n",
       "      <td>LexisNexis</td>\n",
       "      <td>FIRM0002</td>\n",
       "      <td>above</td>\n",
       "      <td>30000000.0</td>\n",
       "      <td>5</td>\n",
       "      <td>6000000.0</td>\n",
       "      <td>Schoolhouse Partners</td>\n",
       "      <td>Venture Capital</td>\n",
       "      <td>USA</td>\n",
       "      <td>New York</td>\n",
       "      <td>1973</td>\n",
       "      <td>Legal Research</td>\n",
       "    </tr>\n",
       "    <tr>\n",
       "      <th>4</th>\n",
       "      <td>DEAL0001</td>\n",
       "      <td>2000-03-22</td>\n",
       "      <td>2000</td>\n",
       "      <td>LexisNexis</td>\n",
       "      <td>FIRM0002</td>\n",
       "      <td>above</td>\n",
       "      <td>30000000.0</td>\n",
       "      <td>5</td>\n",
       "      <td>6000000.0</td>\n",
       "      <td>WR Hambrecht</td>\n",
       "      <td>Venture Capital</td>\n",
       "      <td>USA</td>\n",
       "      <td>New York</td>\n",
       "      <td>1973</td>\n",
       "      <td>Legal Research</td>\n",
       "    </tr>\n",
       "  </tbody>\n",
       "</table>\n",
       "</div>"
      ],
      "text/plain": [
       "    Deal ID  Deal Date  Deal Y        Firm Unique ID Lookup Round Total ($)  \\\n",
       "0  DEAL0001 2000-03-22    2000  LexisNexis         FIRM0002        30000000   \n",
       "1  DEAL0001 2000-03-22    2000  LexisNexis         FIRM0002           above   \n",
       "2  DEAL0001 2000-03-22    2000  LexisNexis         FIRM0002           above   \n",
       "3  DEAL0001 2000-03-22    2000  LexisNexis         FIRM0002           above   \n",
       "4  DEAL0001 2000-03-22    2000  LexisNexis         FIRM0002           above   \n",
       "\n",
       "   Round Total  # of investors  Avg/Investor Participating Investor  \\\n",
       "0   30000000.0               5     6000000.0      Actua Corporation   \n",
       "1   30000000.0               5     6000000.0           Commerce One   \n",
       "2   30000000.0               5     6000000.0                 Kaplan   \n",
       "3   30000000.0               5     6000000.0   Schoolhouse Partners   \n",
       "4   30000000.0               5     6000000.0           WR Hambrecht   \n",
       "\n",
       "         Deal Type Country Head office  Year founded  CodeX Category  \n",
       "0  Venture Capital     USA    New York          1973  Legal Research  \n",
       "1  Venture Capital     USA    New York          1973  Legal Research  \n",
       "2  Venture Capital     USA    New York          1973  Legal Research  \n",
       "3  Venture Capital     USA    New York          1973  Legal Research  \n",
       "4  Venture Capital     USA    New York          1973  Legal Research  "
      ]
     },
     "execution_count": 3,
     "metadata": {},
     "output_type": "execute_result"
    }
   ],
   "source": [
    "file_path = '../../data/raw/Datasheet_Cleansed.xlsx'\n",
    "df = pd.read_excel(file_path, sheet_name='Funding_Clean')\n",
    "\n",
    "df.head()"
   ]
  },
  {
   "cell_type": "markdown",
   "metadata": {},
   "source": [
    "## Clean up headers for easier access"
   ]
  },
  {
   "cell_type": "code",
   "execution_count": 4,
   "metadata": {},
   "outputs": [
    {
     "data": {
      "text/plain": [
       "['deal id',\n",
       " 'deal date',\n",
       " 'deal y',\n",
       " 'firm',\n",
       " 'unique id lookup',\n",
       " 'round total ($)',\n",
       " 'round total',\n",
       " '# of investors',\n",
       " 'avg/investor',\n",
       " 'participating investor',\n",
       " 'deal type',\n",
       " 'country',\n",
       " 'head office',\n",
       " 'year founded',\n",
       " 'codex category']"
      ]
     },
     "execution_count": 4,
     "metadata": {},
     "output_type": "execute_result"
    }
   ],
   "source": [
    "[col.lower() for col in df.columns]"
   ]
  },
  {
   "cell_type": "code",
   "execution_count": 5,
   "metadata": {},
   "outputs": [],
   "source": [
    "cols = ['deal_id','deal_date','deal_year','firm_name','firm_id','round_total_raw','round_total','num_investors',\n",
    "        'avg_invest_per_investor','investor_name','deal_type','country','city','year_founded','codex_category']\n",
    "df.columns = cols"
   ]
  },
  {
   "cell_type": "markdown",
   "metadata": {},
   "source": [
    "## Any nulls or missing data?"
   ]
  },
  {
   "cell_type": "code",
   "execution_count": 6,
   "metadata": {},
   "outputs": [
    {
     "data": {
      "text/plain": [
       "deal_id                      0\n",
       "deal_date                    0\n",
       "deal_year                    0\n",
       "firm_name                    0\n",
       "firm_id                      0\n",
       "round_total_raw              0\n",
       "round_total                  0\n",
       "num_investors                0\n",
       "avg_invest_per_investor      0\n",
       "investor_name              191\n",
       "deal_type                    0\n",
       "country                      0\n",
       "city                         0\n",
       "year_founded                 0\n",
       "codex_category               0\n",
       "dtype: int64"
      ]
     },
     "execution_count": 6,
     "metadata": {},
     "output_type": "execute_result"
    }
   ],
   "source": [
    "df.isnull().sum()"
   ]
  },
  {
   "cell_type": "markdown",
   "metadata": {},
   "source": [
    "**Notes:** It looks like 191 of the investor names are not known.  Instead of NaNs, let's replace with \"undisclosed\""
   ]
  },
  {
   "cell_type": "code",
   "execution_count": 7,
   "metadata": {},
   "outputs": [],
   "source": [
    "# Set Nan values for investor name to \"undisclosed\"\n",
    "df.loc[df.investor_name.isnull(), 'investor_name'] = 'undisclosed'"
   ]
  },
  {
   "cell_type": "markdown",
   "metadata": {},
   "source": [
    "**Notes:** Let's first think through what we're doing here.  The investor data is the most granular because it has a many-to-one relationship with deals.  The purpose of the dataset that we're going to put together here will be for doing analysis at the investor level.  If we want to look at the data at a less granular data, we should a different data set that just joins firms with deals"
   ]
  },
  {
   "cell_type": "markdown",
   "metadata": {},
   "source": [
    "The raw investors data already has all the deals data already, so we can ignore that and just first join the firms data"
   ]
  },
  {
   "cell_type": "markdown",
   "metadata": {},
   "source": [
    "## Fix typo:\n",
    "- Firm_name:  Lawyaw\n",
    "- Error:  firm_id = FIRM0657\n",
    "- Fix:  firm_id = FIRM0843\t"
   ]
  },
  {
   "cell_type": "code",
   "execution_count": 8,
   "metadata": {},
   "outputs": [],
   "source": [
    "df.loc[df.firm_name == 'Lawyaw', 'firm_id'] = 'FIRM0843'"
   ]
  },
  {
   "cell_type": "markdown",
   "metadata": {},
   "source": [
    "## Fix typos:\n",
    "- ``Seed Fund`` sometimes spelled as ``Seed fund``"
   ]
  },
  {
   "cell_type": "code",
   "execution_count": 9,
   "metadata": {},
   "outputs": [],
   "source": [
    "df.loc[df.deal_type == 'Seed fund', 'deal_type'] = 'Seed Fund'"
   ]
  },
  {
   "cell_type": "markdown",
   "metadata": {},
   "source": [
    "## Pull in cleansed firms data and merge into our investors data"
   ]
  },
  {
   "cell_type": "markdown",
   "metadata": {},
   "source": [
    "### Import firms data"
   ]
  },
  {
   "cell_type": "code",
   "execution_count": 10,
   "metadata": {},
   "outputs": [],
   "source": [
    "folder_path = '../../data/interim/'\n",
    "firms_path = os.path.join(folder_path, 'firms.csv')\n",
    "\n",
    "firms = pd.read_csv(firms_path,index_col = 0)"
   ]
  },
  {
   "cell_type": "markdown",
   "metadata": {},
   "source": [
    "### Create ``Firms_join`` dataframe"
   ]
  },
  {
   "cell_type": "code",
   "execution_count": 11,
   "metadata": {},
   "outputs": [],
   "source": [
    "firms_cols_keep = ['firm_id','market','problem_1','problem_2','problem_3','analytics','ai','point_integrated']\n",
    "firms_join = firms[firms_cols_keep]"
   ]
  },
  {
   "cell_type": "markdown",
   "metadata": {},
   "source": [
    "### Merge selected firms columns with investor data"
   ]
  },
  {
   "cell_type": "code",
   "execution_count": 12,
   "metadata": {},
   "outputs": [],
   "source": [
    "df = df.merge(firms_join, how='left', on='firm_id')"
   ]
  },
  {
   "cell_type": "markdown",
   "metadata": {},
   "source": [
    "**Note:** I want to double check if any typos in investor name, since I don't have a key for it"
   ]
  },
  {
   "cell_type": "markdown",
   "metadata": {},
   "source": [
    "## Add some feature engineering: firm_age at funding"
   ]
  },
  {
   "cell_type": "code",
   "execution_count": 13,
   "metadata": {},
   "outputs": [],
   "source": [
    "df['firm_age'] = (df.deal_year - df.year_founded)\n",
    "\n",
    "# Some of the firm age shows negative.  Set to 0\n",
    "df.loc[df.firm_age <0, 'firm_age'] = 0"
   ]
  },
  {
   "cell_type": "markdown",
   "metadata": {},
   "source": [
    "## Check for Nulls"
   ]
  },
  {
   "cell_type": "code",
   "execution_count": 14,
   "metadata": {},
   "outputs": [
    {
     "data": {
      "text/plain": [
       "deal_id                    0\n",
       "deal_date                  0\n",
       "deal_year                  0\n",
       "firm_name                  0\n",
       "firm_id                    0\n",
       "round_total_raw            0\n",
       "round_total                0\n",
       "num_investors              0\n",
       "avg_invest_per_investor    0\n",
       "investor_name              0\n",
       "deal_type                  0\n",
       "country                    0\n",
       "city                       0\n",
       "year_founded               0\n",
       "codex_category             0\n",
       "market                     7\n",
       "problem_1                  7\n",
       "problem_2                  7\n",
       "problem_3                  7\n",
       "analytics                  7\n",
       "ai                         7\n",
       "point_integrated           7\n",
       "firm_age                   0\n",
       "dtype: int64"
      ]
     },
     "execution_count": 14,
     "metadata": {},
     "output_type": "execute_result"
    }
   ],
   "source": [
    "df.isnull().sum()"
   ]
  },
  {
   "cell_type": "markdown",
   "metadata": {},
   "source": [
    "There are 8 records that didn't get any firm matches when doing the merge.  Let's check them out.  **Note:** I fixed 1 of the missing values above in (Fix Typo)"
   ]
  },
  {
   "cell_type": "code",
   "execution_count": 15,
   "metadata": {},
   "outputs": [
    {
     "data": {
      "text/html": [
       "<div>\n",
       "<style scoped>\n",
       "    .dataframe tbody tr th:only-of-type {\n",
       "        vertical-align: middle;\n",
       "    }\n",
       "\n",
       "    .dataframe tbody tr th {\n",
       "        vertical-align: top;\n",
       "    }\n",
       "\n",
       "    .dataframe thead th {\n",
       "        text-align: right;\n",
       "    }\n",
       "</style>\n",
       "<table border=\"1\" class=\"dataframe\">\n",
       "  <thead>\n",
       "    <tr style=\"text-align: right;\">\n",
       "      <th></th>\n",
       "      <th>deal_id</th>\n",
       "      <th>deal_date</th>\n",
       "      <th>deal_year</th>\n",
       "      <th>firm_name</th>\n",
       "      <th>firm_id</th>\n",
       "      <th>round_total_raw</th>\n",
       "      <th>round_total</th>\n",
       "      <th>num_investors</th>\n",
       "      <th>avg_invest_per_investor</th>\n",
       "      <th>investor_name</th>\n",
       "      <th>deal_type</th>\n",
       "      <th>country</th>\n",
       "      <th>city</th>\n",
       "      <th>year_founded</th>\n",
       "      <th>codex_category</th>\n",
       "      <th>market</th>\n",
       "      <th>problem_1</th>\n",
       "      <th>problem_2</th>\n",
       "      <th>problem_3</th>\n",
       "      <th>analytics</th>\n",
       "      <th>ai</th>\n",
       "      <th>point_integrated</th>\n",
       "      <th>firm_age</th>\n",
       "    </tr>\n",
       "  </thead>\n",
       "  <tbody>\n",
       "    <tr>\n",
       "      <th>19</th>\n",
       "      <td>DEAL0014</td>\n",
       "      <td>2006-10-25</td>\n",
       "      <td>2006</td>\n",
       "      <td>IntellinX</td>\n",
       "      <td>FIRM0061</td>\n",
       "      <td>above</td>\n",
       "      <td>350000.0</td>\n",
       "      <td>3</td>\n",
       "      <td>1.166667e+05</td>\n",
       "      <td>Ascend Technology Ventures</td>\n",
       "      <td>Series A</td>\n",
       "      <td>Israel</td>\n",
       "      <td>Tel Aviv</td>\n",
       "      <td>2005</td>\n",
       "      <td>Legal Practice Management</td>\n",
       "      <td>NaN</td>\n",
       "      <td>NaN</td>\n",
       "      <td>NaN</td>\n",
       "      <td>NaN</td>\n",
       "      <td>NaN</td>\n",
       "      <td>NaN</td>\n",
       "      <td>NaN</td>\n",
       "      <td>1</td>\n",
       "    </tr>\n",
       "    <tr>\n",
       "      <th>20</th>\n",
       "      <td>DEAL0014</td>\n",
       "      <td>2006-10-25</td>\n",
       "      <td>2006</td>\n",
       "      <td>IntellinX</td>\n",
       "      <td>FIRM0061</td>\n",
       "      <td>4000000</td>\n",
       "      <td>4000000.0</td>\n",
       "      <td>3</td>\n",
       "      <td>1.333333e+06</td>\n",
       "      <td>Elran Technologies</td>\n",
       "      <td>Series A</td>\n",
       "      <td>Israel</td>\n",
       "      <td>Tel Aviv</td>\n",
       "      <td>2005</td>\n",
       "      <td>Legal Practice Management</td>\n",
       "      <td>NaN</td>\n",
       "      <td>NaN</td>\n",
       "      <td>NaN</td>\n",
       "      <td>NaN</td>\n",
       "      <td>NaN</td>\n",
       "      <td>NaN</td>\n",
       "      <td>NaN</td>\n",
       "      <td>1</td>\n",
       "    </tr>\n",
       "    <tr>\n",
       "      <th>21</th>\n",
       "      <td>DEAL0014</td>\n",
       "      <td>2006-10-25</td>\n",
       "      <td>2006</td>\n",
       "      <td>IntellinX</td>\n",
       "      <td>FIRM0061</td>\n",
       "      <td>above</td>\n",
       "      <td>4000000.0</td>\n",
       "      <td>3</td>\n",
       "      <td>1.333333e+06</td>\n",
       "      <td>SPL Software</td>\n",
       "      <td>Series A</td>\n",
       "      <td>Israel</td>\n",
       "      <td>Tel Aviv</td>\n",
       "      <td>2005</td>\n",
       "      <td>Legal Practice Management</td>\n",
       "      <td>NaN</td>\n",
       "      <td>NaN</td>\n",
       "      <td>NaN</td>\n",
       "      <td>NaN</td>\n",
       "      <td>NaN</td>\n",
       "      <td>NaN</td>\n",
       "      <td>NaN</td>\n",
       "      <td>1</td>\n",
       "    </tr>\n",
       "    <tr>\n",
       "      <th>280</th>\n",
       "      <td>DEAL0193</td>\n",
       "      <td>2014-01-05</td>\n",
       "      <td>2014</td>\n",
       "      <td>CellBreaker</td>\n",
       "      <td>FIRM0074</td>\n",
       "      <td>71000</td>\n",
       "      <td>71000.0</td>\n",
       "      <td>1</td>\n",
       "      <td>7.100000e+04</td>\n",
       "      <td>NC Idea</td>\n",
       "      <td>Grant</td>\n",
       "      <td>USA</td>\n",
       "      <td>North Carolina</td>\n",
       "      <td>2012</td>\n",
       "      <td>E-Discovery</td>\n",
       "      <td>NaN</td>\n",
       "      <td>NaN</td>\n",
       "      <td>NaN</td>\n",
       "      <td>NaN</td>\n",
       "      <td>NaN</td>\n",
       "      <td>NaN</td>\n",
       "      <td>NaN</td>\n",
       "      <td>2</td>\n",
       "    </tr>\n",
       "    <tr>\n",
       "      <th>431</th>\n",
       "      <td>DEAL0285</td>\n",
       "      <td>2015-01-02</td>\n",
       "      <td>2015</td>\n",
       "      <td>CellBreaker</td>\n",
       "      <td>FIRM0074</td>\n",
       "      <td>100000</td>\n",
       "      <td>100000.0</td>\n",
       "      <td>1</td>\n",
       "      <td>1.000000e+05</td>\n",
       "      <td>500 Startups</td>\n",
       "      <td>Convertible Note</td>\n",
       "      <td>USA</td>\n",
       "      <td>North Carolina</td>\n",
       "      <td>2011</td>\n",
       "      <td>E-Discovery</td>\n",
       "      <td>NaN</td>\n",
       "      <td>NaN</td>\n",
       "      <td>NaN</td>\n",
       "      <td>NaN</td>\n",
       "      <td>NaN</td>\n",
       "      <td>NaN</td>\n",
       "      <td>NaN</td>\n",
       "      <td>4</td>\n",
       "    </tr>\n",
       "    <tr>\n",
       "      <th>477</th>\n",
       "      <td>DEAL0317</td>\n",
       "      <td>2015-04-20</td>\n",
       "      <td>2015</td>\n",
       "      <td>CellBreaker</td>\n",
       "      <td>FIRM0074</td>\n",
       "      <td>100000</td>\n",
       "      <td>100000.0</td>\n",
       "      <td>1</td>\n",
       "      <td>1.000000e+05</td>\n",
       "      <td>undisclosed</td>\n",
       "      <td>Seed Fund</td>\n",
       "      <td>USA</td>\n",
       "      <td>North Carolina</td>\n",
       "      <td>2014</td>\n",
       "      <td>E-Discovery</td>\n",
       "      <td>NaN</td>\n",
       "      <td>NaN</td>\n",
       "      <td>NaN</td>\n",
       "      <td>NaN</td>\n",
       "      <td>NaN</td>\n",
       "      <td>NaN</td>\n",
       "      <td>NaN</td>\n",
       "      <td>1</td>\n",
       "    </tr>\n",
       "    <tr>\n",
       "      <th>502</th>\n",
       "      <td>DEAL0328</td>\n",
       "      <td>2015-07-08</td>\n",
       "      <td>2015</td>\n",
       "      <td>CellBreaker</td>\n",
       "      <td>FIRM0074</td>\n",
       "      <td>125000</td>\n",
       "      <td>125000.0</td>\n",
       "      <td>1</td>\n",
       "      <td>1.250000e+05</td>\n",
       "      <td>undisclosed</td>\n",
       "      <td>Convertible Note</td>\n",
       "      <td>USA</td>\n",
       "      <td>North Carolina</td>\n",
       "      <td>2008</td>\n",
       "      <td>E-Discovery</td>\n",
       "      <td>NaN</td>\n",
       "      <td>NaN</td>\n",
       "      <td>NaN</td>\n",
       "      <td>NaN</td>\n",
       "      <td>NaN</td>\n",
       "      <td>NaN</td>\n",
       "      <td>NaN</td>\n",
       "      <td>7</td>\n",
       "    </tr>\n",
       "  </tbody>\n",
       "</table>\n",
       "</div>"
      ],
      "text/plain": [
       "      deal_id  deal_date  deal_year    firm_name   firm_id round_total_raw  \\\n",
       "19   DEAL0014 2006-10-25       2006    IntellinX  FIRM0061           above   \n",
       "20   DEAL0014 2006-10-25       2006    IntellinX  FIRM0061         4000000   \n",
       "21   DEAL0014 2006-10-25       2006    IntellinX  FIRM0061           above   \n",
       "280  DEAL0193 2014-01-05       2014  CellBreaker  FIRM0074           71000   \n",
       "431  DEAL0285 2015-01-02       2015  CellBreaker  FIRM0074          100000   \n",
       "477  DEAL0317 2015-04-20       2015  CellBreaker  FIRM0074          100000   \n",
       "502  DEAL0328 2015-07-08       2015  CellBreaker  FIRM0074          125000   \n",
       "\n",
       "     round_total  num_investors  avg_invest_per_investor  \\\n",
       "19      350000.0              3             1.166667e+05   \n",
       "20     4000000.0              3             1.333333e+06   \n",
       "21     4000000.0              3             1.333333e+06   \n",
       "280      71000.0              1             7.100000e+04   \n",
       "431     100000.0              1             1.000000e+05   \n",
       "477     100000.0              1             1.000000e+05   \n",
       "502     125000.0              1             1.250000e+05   \n",
       "\n",
       "                  investor_name         deal_type country            city  \\\n",
       "19   Ascend Technology Ventures          Series A  Israel        Tel Aviv   \n",
       "20           Elran Technologies          Series A  Israel        Tel Aviv   \n",
       "21                 SPL Software          Series A  Israel        Tel Aviv   \n",
       "280                     NC Idea             Grant     USA  North Carolina   \n",
       "431                500 Startups  Convertible Note     USA  North Carolina   \n",
       "477                 undisclosed         Seed Fund     USA  North Carolina   \n",
       "502                 undisclosed  Convertible Note     USA  North Carolina   \n",
       "\n",
       "     year_founded             codex_category market problem_1 problem_2  \\\n",
       "19           2005  Legal Practice Management    NaN       NaN       NaN   \n",
       "20           2005  Legal Practice Management    NaN       NaN       NaN   \n",
       "21           2005  Legal Practice Management    NaN       NaN       NaN   \n",
       "280          2012                E-Discovery    NaN       NaN       NaN   \n",
       "431          2011                E-Discovery    NaN       NaN       NaN   \n",
       "477          2014                E-Discovery    NaN       NaN       NaN   \n",
       "502          2008                E-Discovery    NaN       NaN       NaN   \n",
       "\n",
       "    problem_3  analytics  ai point_integrated  firm_age  \n",
       "19        NaN        NaN NaN              NaN         1  \n",
       "20        NaN        NaN NaN              NaN         1  \n",
       "21        NaN        NaN NaN              NaN         1  \n",
       "280       NaN        NaN NaN              NaN         2  \n",
       "431       NaN        NaN NaN              NaN         4  \n",
       "477       NaN        NaN NaN              NaN         1  \n",
       "502       NaN        NaN NaN              NaN         7  "
      ]
     },
     "execution_count": 15,
     "metadata": {},
     "output_type": "execute_result"
    }
   ],
   "source": [
    "df[df.market.isnull()]"
   ]
  },
  {
   "cell_type": "markdown",
   "metadata": {},
   "source": [
    "**Notes:** ``IntellinX`` and ``CellBreaker`` are missing because we deleted those records from our firm data.  We did not have a problem categorization for those firms and upon further inspection found that they were not really related to legal tech.  We can drop all rows associated with those 2 firms.<br>\n",
    "<br>\n",
    "There is 1 record with firm_name ``Lawyaw`` that is also missing.  Upon further inspection, Lawyaw exists in the firms dataframe, but the ``firm_id`` is incorrect.  Nothing exists for ``FIRM0657``.  Lawyaw's firm_id is actually ``FIRM0843``.  I will fix this above the merge.  Drop other missing columns"
   ]
  },
  {
   "cell_type": "code",
   "execution_count": 16,
   "metadata": {},
   "outputs": [
    {
     "data": {
      "text/plain": [
       "(1133, 23)"
      ]
     },
     "execution_count": 16,
     "metadata": {},
     "output_type": "execute_result"
    }
   ],
   "source": [
    "df.shape"
   ]
  },
  {
   "cell_type": "markdown",
   "metadata": {},
   "source": [
    "## Drop the remaining 7 rows with missing data"
   ]
  },
  {
   "cell_type": "code",
   "execution_count": 17,
   "metadata": {},
   "outputs": [
    {
     "name": "stdout",
     "output_type": "stream",
     "text": [
      "(1126, 23)\n"
     ]
    }
   ],
   "source": [
    "df.dropna(inplace=True)\n",
    "print(df.shape)"
   ]
  },
  {
   "cell_type": "markdown",
   "metadata": {},
   "source": [
    "## Export the cleansed file"
   ]
  },
  {
   "cell_type": "code",
   "execution_count": 18,
   "metadata": {},
   "outputs": [
    {
     "name": "stdout",
     "output_type": "stream",
     "text": [
      "datasheet_1.csv      firms.csv            investors.csv\r\n",
      "deals.csv            funding_investor.csv\r\n"
     ]
    }
   ],
   "source": [
    "! ls ../../data/interim"
   ]
  },
  {
   "cell_type": "code",
   "execution_count": 19,
   "metadata": {},
   "outputs": [],
   "source": [
    "file_path = '../../data/interim/investors.csv'\n",
    "df.to_csv(file_path)"
   ]
  },
  {
   "cell_type": "code",
   "execution_count": 20,
   "metadata": {},
   "outputs": [
    {
     "data": {
      "text/html": [
       "<div>\n",
       "<style scoped>\n",
       "    .dataframe tbody tr th:only-of-type {\n",
       "        vertical-align: middle;\n",
       "    }\n",
       "\n",
       "    .dataframe tbody tr th {\n",
       "        vertical-align: top;\n",
       "    }\n",
       "\n",
       "    .dataframe thead th {\n",
       "        text-align: right;\n",
       "    }\n",
       "</style>\n",
       "<table border=\"1\" class=\"dataframe\">\n",
       "  <thead>\n",
       "    <tr style=\"text-align: right;\">\n",
       "      <th></th>\n",
       "      <th>deal_id</th>\n",
       "      <th>deal_date</th>\n",
       "      <th>deal_year</th>\n",
       "      <th>firm_name</th>\n",
       "      <th>firm_id</th>\n",
       "      <th>round_total_raw</th>\n",
       "      <th>round_total</th>\n",
       "      <th>num_investors</th>\n",
       "      <th>avg_invest_per_investor</th>\n",
       "      <th>investor_name</th>\n",
       "      <th>deal_type</th>\n",
       "      <th>country</th>\n",
       "      <th>city</th>\n",
       "      <th>year_founded</th>\n",
       "      <th>codex_category</th>\n",
       "      <th>market</th>\n",
       "      <th>problem_1</th>\n",
       "      <th>problem_2</th>\n",
       "      <th>problem_3</th>\n",
       "      <th>analytics</th>\n",
       "      <th>ai</th>\n",
       "      <th>point_integrated</th>\n",
       "      <th>firm_age</th>\n",
       "    </tr>\n",
       "  </thead>\n",
       "  <tbody>\n",
       "    <tr>\n",
       "      <th>0</th>\n",
       "      <td>DEAL0001</td>\n",
       "      <td>2000-03-22</td>\n",
       "      <td>2000</td>\n",
       "      <td>LexisNexis</td>\n",
       "      <td>FIRM0002</td>\n",
       "      <td>30000000</td>\n",
       "      <td>30000000.0</td>\n",
       "      <td>5</td>\n",
       "      <td>6000000.0</td>\n",
       "      <td>Actua Corporation</td>\n",
       "      <td>Venture Capital</td>\n",
       "      <td>USA</td>\n",
       "      <td>New York</td>\n",
       "      <td>1973</td>\n",
       "      <td>Legal Research</td>\n",
       "      <td>Corporate</td>\n",
       "      <td>Legal Research</td>\n",
       "      <td>Other Practice Tech</td>\n",
       "      <td>NONE</td>\n",
       "      <td>1.0</td>\n",
       "      <td>0.0</td>\n",
       "      <td>Integrated Solution</td>\n",
       "      <td>27</td>\n",
       "    </tr>\n",
       "    <tr>\n",
       "      <th>1</th>\n",
       "      <td>DEAL0001</td>\n",
       "      <td>2000-03-22</td>\n",
       "      <td>2000</td>\n",
       "      <td>LexisNexis</td>\n",
       "      <td>FIRM0002</td>\n",
       "      <td>above</td>\n",
       "      <td>30000000.0</td>\n",
       "      <td>5</td>\n",
       "      <td>6000000.0</td>\n",
       "      <td>Commerce One</td>\n",
       "      <td>Venture Capital</td>\n",
       "      <td>USA</td>\n",
       "      <td>New York</td>\n",
       "      <td>1973</td>\n",
       "      <td>Legal Research</td>\n",
       "      <td>Corporate</td>\n",
       "      <td>Legal Research</td>\n",
       "      <td>Other Practice Tech</td>\n",
       "      <td>NONE</td>\n",
       "      <td>1.0</td>\n",
       "      <td>0.0</td>\n",
       "      <td>Integrated Solution</td>\n",
       "      <td>27</td>\n",
       "    </tr>\n",
       "    <tr>\n",
       "      <th>2</th>\n",
       "      <td>DEAL0001</td>\n",
       "      <td>2000-03-22</td>\n",
       "      <td>2000</td>\n",
       "      <td>LexisNexis</td>\n",
       "      <td>FIRM0002</td>\n",
       "      <td>above</td>\n",
       "      <td>30000000.0</td>\n",
       "      <td>5</td>\n",
       "      <td>6000000.0</td>\n",
       "      <td>Kaplan</td>\n",
       "      <td>Venture Capital</td>\n",
       "      <td>USA</td>\n",
       "      <td>New York</td>\n",
       "      <td>1973</td>\n",
       "      <td>Legal Research</td>\n",
       "      <td>Corporate</td>\n",
       "      <td>Legal Research</td>\n",
       "      <td>Other Practice Tech</td>\n",
       "      <td>NONE</td>\n",
       "      <td>1.0</td>\n",
       "      <td>0.0</td>\n",
       "      <td>Integrated Solution</td>\n",
       "      <td>27</td>\n",
       "    </tr>\n",
       "    <tr>\n",
       "      <th>3</th>\n",
       "      <td>DEAL0001</td>\n",
       "      <td>2000-03-22</td>\n",
       "      <td>2000</td>\n",
       "      <td>LexisNexis</td>\n",
       "      <td>FIRM0002</td>\n",
       "      <td>above</td>\n",
       "      <td>30000000.0</td>\n",
       "      <td>5</td>\n",
       "      <td>6000000.0</td>\n",
       "      <td>Schoolhouse Partners</td>\n",
       "      <td>Venture Capital</td>\n",
       "      <td>USA</td>\n",
       "      <td>New York</td>\n",
       "      <td>1973</td>\n",
       "      <td>Legal Research</td>\n",
       "      <td>Corporate</td>\n",
       "      <td>Legal Research</td>\n",
       "      <td>Other Practice Tech</td>\n",
       "      <td>NONE</td>\n",
       "      <td>1.0</td>\n",
       "      <td>0.0</td>\n",
       "      <td>Integrated Solution</td>\n",
       "      <td>27</td>\n",
       "    </tr>\n",
       "    <tr>\n",
       "      <th>4</th>\n",
       "      <td>DEAL0001</td>\n",
       "      <td>2000-03-22</td>\n",
       "      <td>2000</td>\n",
       "      <td>LexisNexis</td>\n",
       "      <td>FIRM0002</td>\n",
       "      <td>above</td>\n",
       "      <td>30000000.0</td>\n",
       "      <td>5</td>\n",
       "      <td>6000000.0</td>\n",
       "      <td>WR Hambrecht</td>\n",
       "      <td>Venture Capital</td>\n",
       "      <td>USA</td>\n",
       "      <td>New York</td>\n",
       "      <td>1973</td>\n",
       "      <td>Legal Research</td>\n",
       "      <td>Corporate</td>\n",
       "      <td>Legal Research</td>\n",
       "      <td>Other Practice Tech</td>\n",
       "      <td>NONE</td>\n",
       "      <td>1.0</td>\n",
       "      <td>0.0</td>\n",
       "      <td>Integrated Solution</td>\n",
       "      <td>27</td>\n",
       "    </tr>\n",
       "  </tbody>\n",
       "</table>\n",
       "</div>"
      ],
      "text/plain": [
       "    deal_id  deal_date  deal_year   firm_name   firm_id round_total_raw  \\\n",
       "0  DEAL0001 2000-03-22       2000  LexisNexis  FIRM0002        30000000   \n",
       "1  DEAL0001 2000-03-22       2000  LexisNexis  FIRM0002           above   \n",
       "2  DEAL0001 2000-03-22       2000  LexisNexis  FIRM0002           above   \n",
       "3  DEAL0001 2000-03-22       2000  LexisNexis  FIRM0002           above   \n",
       "4  DEAL0001 2000-03-22       2000  LexisNexis  FIRM0002           above   \n",
       "\n",
       "   round_total  num_investors  avg_invest_per_investor         investor_name  \\\n",
       "0   30000000.0              5                6000000.0     Actua Corporation   \n",
       "1   30000000.0              5                6000000.0          Commerce One   \n",
       "2   30000000.0              5                6000000.0                Kaplan   \n",
       "3   30000000.0              5                6000000.0  Schoolhouse Partners   \n",
       "4   30000000.0              5                6000000.0          WR Hambrecht   \n",
       "\n",
       "         deal_type country      city  year_founded  codex_category     market  \\\n",
       "0  Venture Capital     USA  New York          1973  Legal Research  Corporate   \n",
       "1  Venture Capital     USA  New York          1973  Legal Research  Corporate   \n",
       "2  Venture Capital     USA  New York          1973  Legal Research  Corporate   \n",
       "3  Venture Capital     USA  New York          1973  Legal Research  Corporate   \n",
       "4  Venture Capital     USA  New York          1973  Legal Research  Corporate   \n",
       "\n",
       "        problem_1            problem_2 problem_3  analytics   ai  \\\n",
       "0  Legal Research  Other Practice Tech      NONE        1.0  0.0   \n",
       "1  Legal Research  Other Practice Tech      NONE        1.0  0.0   \n",
       "2  Legal Research  Other Practice Tech      NONE        1.0  0.0   \n",
       "3  Legal Research  Other Practice Tech      NONE        1.0  0.0   \n",
       "4  Legal Research  Other Practice Tech      NONE        1.0  0.0   \n",
       "\n",
       "      point_integrated  firm_age  \n",
       "0  Integrated Solution        27  \n",
       "1  Integrated Solution        27  \n",
       "2  Integrated Solution        27  \n",
       "3  Integrated Solution        27  \n",
       "4  Integrated Solution        27  "
      ]
     },
     "execution_count": 20,
     "metadata": {},
     "output_type": "execute_result"
    }
   ],
   "source": [
    "df.head(5)"
   ]
  },
  {
   "cell_type": "code",
   "execution_count": null,
   "metadata": {},
   "outputs": [],
   "source": []
  }
 ],
 "metadata": {
  "kernelspec": {
   "display_name": "Python 3",
   "language": "python",
   "name": "python3"
  },
  "language_info": {
   "codemirror_mode": {
    "name": "ipython",
    "version": 3
   },
   "file_extension": ".py",
   "mimetype": "text/x-python",
   "name": "python",
   "nbconvert_exporter": "python",
   "pygments_lexer": "ipython3",
   "version": "3.6.4"
  }
 },
 "nbformat": 4,
 "nbformat_minor": 2
}
