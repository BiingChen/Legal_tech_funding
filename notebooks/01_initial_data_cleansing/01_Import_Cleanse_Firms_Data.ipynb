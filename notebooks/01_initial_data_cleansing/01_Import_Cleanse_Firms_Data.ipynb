{
 "cells": [
  {
   "cell_type": "markdown",
   "metadata": {},
   "source": [
    "# 01 Import and cleanse firms data"
   ]
  },
  {
   "cell_type": "markdown",
   "metadata": {},
   "source": [
    "## Import modules"
   ]
  },
  {
   "cell_type": "code",
   "execution_count": 1,
   "metadata": {},
   "outputs": [],
   "source": [
    "import pandas as pd\n",
    "import numpy as np"
   ]
  },
  {
   "cell_type": "code",
   "execution_count": 2,
   "metadata": {},
   "outputs": [
    {
     "name": "stdout",
     "output_type": "stream",
     "text": [
      "Datasheet_Cleansed.xlsx Datasheet_Raw.xlsx\r\n"
     ]
    }
   ],
   "source": [
    "# Find the file location\n",
    "! ls ../../data/raw/"
   ]
  },
  {
   "cell_type": "markdown",
   "metadata": {},
   "source": [
    "## Import raw data"
   ]
  },
  {
   "cell_type": "code",
   "execution_count": 3,
   "metadata": {},
   "outputs": [],
   "source": [
    "path = '../../data/raw/Datasheet_Raw.xlsx'\n",
    "df = pd.read_excel(path, sheet_name = 0, skiprows=2)"
   ]
  },
  {
   "cell_type": "markdown",
   "metadata": {},
   "source": [
    "## Quick peak at the raw file"
   ]
  },
  {
   "cell_type": "code",
   "execution_count": 4,
   "metadata": {},
   "outputs": [
    {
     "data": {
      "text/html": [
       "<div>\n",
       "<style scoped>\n",
       "    .dataframe tbody tr th:only-of-type {\n",
       "        vertical-align: middle;\n",
       "    }\n",
       "\n",
       "    .dataframe tbody tr th {\n",
       "        vertical-align: top;\n",
       "    }\n",
       "\n",
       "    .dataframe thead th {\n",
       "        text-align: right;\n",
       "    }\n",
       "</style>\n",
       "<table border=\"1\" class=\"dataframe\">\n",
       "  <thead>\n",
       "    <tr style=\"text-align: right;\">\n",
       "      <th></th>\n",
       "      <th>Unnamed: 0</th>\n",
       "      <th>Firm ID</th>\n",
       "      <th>Firm</th>\n",
       "      <th>CodeX Category</th>\n",
       "      <th>Country</th>\n",
       "      <th>Head office</th>\n",
       "      <th>Founded</th>\n",
       "      <th>Market</th>\n",
       "      <th>Primary Problem</th>\n",
       "      <th>Secondary Problem</th>\n",
       "      <th>Secondary Problem.1</th>\n",
       "      <th>Analytics</th>\n",
       "      <th>AI</th>\n",
       "      <th>Point vs Integrated</th>\n",
       "      <th>PvI Rating (if needed)</th>\n",
       "      <th>Company URL</th>\n",
       "      <th>Other reference link (if applicable)</th>\n",
       "      <th>Comments</th>\n",
       "      <th>Unnamed: 18</th>\n",
       "    </tr>\n",
       "  </thead>\n",
       "  <tbody>\n",
       "    <tr>\n",
       "      <th>0</th>\n",
       "      <td>NaN</td>\n",
       "      <td>FIRM0002</td>\n",
       "      <td>LexisNexis</td>\n",
       "      <td>Legal Research</td>\n",
       "      <td>USA</td>\n",
       "      <td>New York</td>\n",
       "      <td>1973</td>\n",
       "      <td>Corporate</td>\n",
       "      <td>Legal Research</td>\n",
       "      <td>Other Practice Tech</td>\n",
       "      <td>NaN</td>\n",
       "      <td>Yes</td>\n",
       "      <td>No</td>\n",
       "      <td>Integrated Solution</td>\n",
       "      <td>NaN</td>\n",
       "      <td>https://www.lexisnexis.com/en-us/gateway.page</td>\n",
       "      <td>NaN</td>\n",
       "      <td>LexisNexis started out as a legal research com...</td>\n",
       "      <td>NaN</td>\n",
       "    </tr>\n",
       "    <tr>\n",
       "      <th>1</th>\n",
       "      <td>NaN</td>\n",
       "      <td>FIRM0003</td>\n",
       "      <td>Korbitec</td>\n",
       "      <td>Legal Document Automation</td>\n",
       "      <td>South Africa</td>\n",
       "      <td>Cape Town</td>\n",
       "      <td>1976</td>\n",
       "      <td>Corporate</td>\n",
       "      <td>Contracts</td>\n",
       "      <td>Other Practice Tech</td>\n",
       "      <td>NaN</td>\n",
       "      <td>Yes</td>\n",
       "      <td>No</td>\n",
       "      <td>Integrated Solution</td>\n",
       "      <td>3.0</td>\n",
       "      <td>https://www.lexisnexis.co.za/</td>\n",
       "      <td>https://www.linkedin.com/company/korbitec/?ori...</td>\n",
       "      <td>Korbitec was acquired by LexisNexis.</td>\n",
       "      <td>NaN</td>\n",
       "    </tr>\n",
       "  </tbody>\n",
       "</table>\n",
       "</div>"
      ],
      "text/plain": [
       "   Unnamed: 0   Firm ID        Firm             CodeX Category       Country  \\\n",
       "0         NaN  FIRM0002  LexisNexis             Legal Research           USA   \n",
       "1         NaN  FIRM0003    Korbitec  Legal Document Automation  South Africa   \n",
       "\n",
       "  Head office  Founded     Market Primary Problem    Secondary Problem  \\\n",
       "0    New York     1973  Corporate  Legal Research  Other Practice Tech   \n",
       "1   Cape Town     1976  Corporate       Contracts  Other Practice Tech   \n",
       "\n",
       "  Secondary Problem.1 Analytics  AI  Point vs Integrated  \\\n",
       "0                 NaN       Yes  No  Integrated Solution   \n",
       "1                 NaN       Yes  No  Integrated Solution   \n",
       "\n",
       "   PvI Rating (if needed)                                    Company URL  \\\n",
       "0                     NaN  https://www.lexisnexis.com/en-us/gateway.page   \n",
       "1                     3.0                  https://www.lexisnexis.co.za/   \n",
       "\n",
       "                Other reference link (if applicable)  \\\n",
       "0                                                NaN   \n",
       "1  https://www.linkedin.com/company/korbitec/?ori...   \n",
       "\n",
       "                                           Comments  Unnamed: 18  \n",
       "0  LexisNexis started out as a legal research com...         NaN  \n",
       "1               Korbitec was acquired by LexisNexis.         NaN  "
      ]
     },
     "execution_count": 4,
     "metadata": {},
     "output_type": "execute_result"
    }
   ],
   "source": [
    "df.head(2)"
   ]
  },
  {
   "cell_type": "markdown",
   "metadata": {},
   "source": [
    "## Drop trash columns"
   ]
  },
  {
   "cell_type": "code",
   "execution_count": 5,
   "metadata": {},
   "outputs": [],
   "source": [
    "df.drop(columns = ['Unnamed: 0', 'PvI Rating (if needed)', 'Unnamed: 18'], inplace=True)"
   ]
  },
  {
   "cell_type": "markdown",
   "metadata": {},
   "source": [
    "## Rename columns"
   ]
  },
  {
   "cell_type": "code",
   "execution_count": 6,
   "metadata": {},
   "outputs": [],
   "source": [
    "cols = ['firm_id','firm_name','codex_category','country','city','year_founded','market','problem_1',\n",
    "        'problem_2','problem_3','analytics','ai','point_integrated','company_url','other_link','comments ']\n",
    "df.columns = cols"
   ]
  },
  {
   "cell_type": "markdown",
   "metadata": {},
   "source": [
    "### Convert Analytics and AI to boolean, 1 and 0"
   ]
  },
  {
   "cell_type": "code",
   "execution_count": 7,
   "metadata": {},
   "outputs": [],
   "source": [
    "df.analytics = df.analytics.map(lambda x: 1 if x =='Yes' else 0)"
   ]
  },
  {
   "cell_type": "code",
   "execution_count": 8,
   "metadata": {},
   "outputs": [],
   "source": [
    "df.ai = df.ai.map(lambda x: 1 if x=='Yes' else 0)"
   ]
  },
  {
   "cell_type": "markdown",
   "metadata": {},
   "source": [
    "## Some of the data in problems have text ``Unclear - SEE NOTES``.  Drop rows"
   ]
  },
  {
   "cell_type": "code",
   "execution_count": 9,
   "metadata": {},
   "outputs": [
    {
     "data": {
      "text/html": [
       "<div>\n",
       "<style scoped>\n",
       "    .dataframe tbody tr th:only-of-type {\n",
       "        vertical-align: middle;\n",
       "    }\n",
       "\n",
       "    .dataframe tbody tr th {\n",
       "        vertical-align: top;\n",
       "    }\n",
       "\n",
       "    .dataframe thead th {\n",
       "        text-align: right;\n",
       "    }\n",
       "</style>\n",
       "<table border=\"1\" class=\"dataframe\">\n",
       "  <thead>\n",
       "    <tr style=\"text-align: right;\">\n",
       "      <th></th>\n",
       "      <th>firm_id</th>\n",
       "      <th>firm_name</th>\n",
       "      <th>codex_category</th>\n",
       "      <th>country</th>\n",
       "      <th>city</th>\n",
       "      <th>year_founded</th>\n",
       "      <th>market</th>\n",
       "      <th>problem_1</th>\n",
       "      <th>problem_2</th>\n",
       "      <th>problem_3</th>\n",
       "      <th>analytics</th>\n",
       "      <th>ai</th>\n",
       "      <th>point_integrated</th>\n",
       "      <th>company_url</th>\n",
       "      <th>other_link</th>\n",
       "      <th>comments</th>\n",
       "    </tr>\n",
       "  </thead>\n",
       "  <tbody>\n",
       "    <tr>\n",
       "      <th>24</th>\n",
       "      <td>FIRM0061</td>\n",
       "      <td>IntellinX</td>\n",
       "      <td>Legal Practice Management</td>\n",
       "      <td>Israel</td>\n",
       "      <td>Tel Aviv</td>\n",
       "      <td>2005</td>\n",
       "      <td>Corporate</td>\n",
       "      <td>Unclear - SEE NOTES</td>\n",
       "      <td>NaN</td>\n",
       "      <td>NaN</td>\n",
       "      <td>1</td>\n",
       "      <td>0</td>\n",
       "      <td>Point Solution</td>\n",
       "      <td>https://www.bottomline.com/us/solutions/cyber-...</td>\n",
       "      <td>NaN</td>\n",
       "      <td>Track end-user activity in internal business a...</td>\n",
       "    </tr>\n",
       "    <tr>\n",
       "      <th>34</th>\n",
       "      <td>FIRM0074</td>\n",
       "      <td>CellBreaker</td>\n",
       "      <td>E-Discovery</td>\n",
       "      <td>USA</td>\n",
       "      <td>North Carolina</td>\n",
       "      <td>2007</td>\n",
       "      <td>Consumer</td>\n",
       "      <td>Unclear - SEE NOTES</td>\n",
       "      <td>NaN</td>\n",
       "      <td>NaN</td>\n",
       "      <td>0</td>\n",
       "      <td>0</td>\n",
       "      <td>Point Solution</td>\n",
       "      <td>https://www.cellbreaker.com/</td>\n",
       "      <td>NaN</td>\n",
       "      <td>Switch cell phone carriers without paying the ...</td>\n",
       "    </tr>\n",
       "    <tr>\n",
       "      <th>58</th>\n",
       "      <td>FIRM0148</td>\n",
       "      <td>Virtual Viewbox</td>\n",
       "      <td>Legal Practice Management</td>\n",
       "      <td>USA</td>\n",
       "      <td>San Antonio</td>\n",
       "      <td>2010</td>\n",
       "      <td>Corporate</td>\n",
       "      <td>Unclear - SEE NOTES</td>\n",
       "      <td>NaN</td>\n",
       "      <td>NaN</td>\n",
       "      <td>0</td>\n",
       "      <td>0</td>\n",
       "      <td>NaN</td>\n",
       "      <td>https://www.virtualviewbox.com/home.html</td>\n",
       "      <td>NaN</td>\n",
       "      <td>Virtual Viewbox looks more meditech than legal...</td>\n",
       "    </tr>\n",
       "    <tr>\n",
       "      <th>189</th>\n",
       "      <td>FIRM0511</td>\n",
       "      <td>Reduse</td>\n",
       "      <td>Legal Practice Management</td>\n",
       "      <td>UK</td>\n",
       "      <td>Cambridge</td>\n",
       "      <td>2014</td>\n",
       "      <td>Corporate</td>\n",
       "      <td>Unclear - SEE NOTES</td>\n",
       "      <td>NaN</td>\n",
       "      <td>NaN</td>\n",
       "      <td>0</td>\n",
       "      <td>0</td>\n",
       "      <td>NaN</td>\n",
       "      <td>https://www.linkedin.com/company/reduse/</td>\n",
       "      <td>NaN</td>\n",
       "      <td>Reduse remove print from paper using laser, re...</td>\n",
       "    </tr>\n",
       "  </tbody>\n",
       "</table>\n",
       "</div>"
      ],
      "text/plain": [
       "      firm_id        firm_name             codex_category country  \\\n",
       "24   FIRM0061        IntellinX  Legal Practice Management  Israel   \n",
       "34   FIRM0074      CellBreaker                E-Discovery     USA   \n",
       "58   FIRM0148  Virtual Viewbox  Legal Practice Management     USA   \n",
       "189  FIRM0511           Reduse  Legal Practice Management      UK   \n",
       "\n",
       "               city  year_founded     market            problem_1 problem_2  \\\n",
       "24         Tel Aviv          2005  Corporate  Unclear - SEE NOTES       NaN   \n",
       "34   North Carolina          2007   Consumer  Unclear - SEE NOTES       NaN   \n",
       "58      San Antonio          2010  Corporate  Unclear - SEE NOTES       NaN   \n",
       "189       Cambridge          2014  Corporate  Unclear - SEE NOTES       NaN   \n",
       "\n",
       "    problem_3  analytics  ai point_integrated  \\\n",
       "24        NaN          1   0   Point Solution   \n",
       "34        NaN          0   0   Point Solution   \n",
       "58        NaN          0   0              NaN   \n",
       "189       NaN          0   0              NaN   \n",
       "\n",
       "                                           company_url other_link  \\\n",
       "24   https://www.bottomline.com/us/solutions/cyber-...        NaN   \n",
       "34                        https://www.cellbreaker.com/        NaN   \n",
       "58            https://www.virtualviewbox.com/home.html        NaN   \n",
       "189           https://www.linkedin.com/company/reduse/        NaN   \n",
       "\n",
       "                                             comments   \n",
       "24   Track end-user activity in internal business a...  \n",
       "34   Switch cell phone carriers without paying the ...  \n",
       "58   Virtual Viewbox looks more meditech than legal...  \n",
       "189  Reduse remove print from paper using laser, re...  "
      ]
     },
     "execution_count": 9,
     "metadata": {},
     "output_type": "execute_result"
    }
   ],
   "source": [
    "df[df.problem_1=='Unclear - SEE NOTES']"
   ]
  },
  {
   "cell_type": "code",
   "execution_count": 10,
   "metadata": {},
   "outputs": [
    {
     "data": {
      "text/plain": [
       "['https://www.bottomline.com/us/solutions/cyber-fraud-and-risk-management/',\n",
       " 'https://www.cellbreaker.com/',\n",
       " 'https://www.virtualviewbox.com/home.html',\n",
       " 'https://www.linkedin.com/company/reduse/']"
      ]
     },
     "execution_count": 10,
     "metadata": {},
     "output_type": "execute_result"
    }
   ],
   "source": [
    "# Get urls for companies\n",
    "[x for x in df[df.problem_1=='Unclear - SEE NOTES']['company_url']]"
   ]
  },
  {
   "cell_type": "code",
   "execution_count": 11,
   "metadata": {},
   "outputs": [
    {
     "data": {
      "text/plain": [
       "['Track end-user activity in internal business applications for forensic audit of autorhised user activities',\n",
       " 'Switch cell phone carriers without paying the early termination fee',\n",
       " 'Virtual Viewbox looks more meditech than legaltech ',\n",
       " 'Reduse remove print from paper using laser, recyclying paper for multiple use']"
      ]
     },
     "execution_count": 11,
     "metadata": {},
     "output_type": "execute_result"
    }
   ],
   "source": [
    "# Get urls for companies\n",
    "[x for x in df[df.problem_1=='Unclear - SEE NOTES']['comments ']]"
   ]
  },
  {
   "cell_type": "markdown",
   "metadata": {},
   "source": [
    "**Note:** After looking at the website of these 4 businesses, I think its safe to just drop them because they aren't even really that related to legal tech."
   ]
  },
  {
   "cell_type": "code",
   "execution_count": 12,
   "metadata": {},
   "outputs": [
    {
     "data": {
      "text/plain": [
       "(339, 16)"
      ]
     },
     "execution_count": 12,
     "metadata": {},
     "output_type": "execute_result"
    }
   ],
   "source": [
    "df.shape"
   ]
  },
  {
   "cell_type": "code",
   "execution_count": 13,
   "metadata": {},
   "outputs": [
    {
     "data": {
      "text/plain": [
       "(335, 16)"
      ]
     },
     "execution_count": 13,
     "metadata": {},
     "output_type": "execute_result"
    }
   ],
   "source": [
    "# Drop rows for \"unclear\" problems\n",
    "df = df[df.problem_1!='Unclear - SEE NOTES']\n",
    "df.shape"
   ]
  },
  {
   "cell_type": "code",
   "execution_count": 14,
   "metadata": {},
   "outputs": [
    {
     "data": {
      "text/html": [
       "<div>\n",
       "<style scoped>\n",
       "    .dataframe tbody tr th:only-of-type {\n",
       "        vertical-align: middle;\n",
       "    }\n",
       "\n",
       "    .dataframe tbody tr th {\n",
       "        vertical-align: top;\n",
       "    }\n",
       "\n",
       "    .dataframe thead th {\n",
       "        text-align: right;\n",
       "    }\n",
       "</style>\n",
       "<table border=\"1\" class=\"dataframe\">\n",
       "  <thead>\n",
       "    <tr style=\"text-align: right;\">\n",
       "      <th></th>\n",
       "      <th>firm_id</th>\n",
       "      <th>firm_name</th>\n",
       "      <th>codex_category</th>\n",
       "      <th>country</th>\n",
       "      <th>city</th>\n",
       "      <th>year_founded</th>\n",
       "      <th>market</th>\n",
       "      <th>problem_1</th>\n",
       "      <th>problem_2</th>\n",
       "      <th>problem_3</th>\n",
       "      <th>analytics</th>\n",
       "      <th>ai</th>\n",
       "      <th>point_integrated</th>\n",
       "      <th>company_url</th>\n",
       "      <th>other_link</th>\n",
       "      <th>comments</th>\n",
       "    </tr>\n",
       "  </thead>\n",
       "  <tbody>\n",
       "    <tr>\n",
       "      <th>18</th>\n",
       "      <td>FIRM0053</td>\n",
       "      <td>Gust</td>\n",
       "      <td>Legal Marketplace</td>\n",
       "      <td>USA</td>\n",
       "      <td>New York</td>\n",
       "      <td>2004</td>\n",
       "      <td>Corporate</td>\n",
       "      <td>DealTech</td>\n",
       "      <td>Unclear - SEE NOTES</td>\n",
       "      <td>NaN</td>\n",
       "      <td>0</td>\n",
       "      <td>0</td>\n",
       "      <td>Integrated Solution</td>\n",
       "      <td>https://gust.com/</td>\n",
       "      <td>NaN</td>\n",
       "      <td>Gust connects startups to angel investors thro...</td>\n",
       "    </tr>\n",
       "    <tr>\n",
       "      <th>138</th>\n",
       "      <td>FIRM0365</td>\n",
       "      <td>Loudr</td>\n",
       "      <td>Legal Document Automation</td>\n",
       "      <td>USA</td>\n",
       "      <td>San Francisco</td>\n",
       "      <td>2013</td>\n",
       "      <td>Corporate</td>\n",
       "      <td>Contracts</td>\n",
       "      <td>Unclear - SEE NOTES</td>\n",
       "      <td>NaN</td>\n",
       "      <td>1</td>\n",
       "      <td>0</td>\n",
       "      <td>Integrated Solution</td>\n",
       "      <td>https://loudr.fm/</td>\n",
       "      <td>NaN</td>\n",
       "      <td>Acquired by Spotify. Loudr builds products and...</td>\n",
       "    </tr>\n",
       "  </tbody>\n",
       "</table>\n",
       "</div>"
      ],
      "text/plain": [
       "      firm_id firm_name             codex_category country           city  \\\n",
       "18   FIRM0053      Gust          Legal Marketplace     USA       New York   \n",
       "138  FIRM0365     Loudr  Legal Document Automation     USA  San Francisco   \n",
       "\n",
       "     year_founded     market  problem_1            problem_2 problem_3  \\\n",
       "18           2004  Corporate   DealTech  Unclear - SEE NOTES       NaN   \n",
       "138          2013  Corporate  Contracts  Unclear - SEE NOTES       NaN   \n",
       "\n",
       "     analytics  ai     point_integrated        company_url other_link  \\\n",
       "18           0   0  Integrated Solution  https://gust.com/        NaN   \n",
       "138          1   0  Integrated Solution  https://loudr.fm/        NaN   \n",
       "\n",
       "                                             comments   \n",
       "18   Gust connects startups to angel investors thro...  \n",
       "138  Acquired by Spotify. Loudr builds products and...  "
      ]
     },
     "execution_count": 14,
     "metadata": {},
     "output_type": "execute_result"
    }
   ],
   "source": [
    "# Check for problem_2 as well\n",
    "df[df.problem_2=='Unclear - SEE NOTES']"
   ]
  },
  {
   "cell_type": "code",
   "execution_count": 15,
   "metadata": {},
   "outputs": [],
   "source": [
    "# Since problem_1 is populated, just change these to None\n",
    "df.loc[df.problem_2=='Unclear - SEE NOTES', 'problem_2'] = np.NaN"
   ]
  },
  {
   "cell_type": "markdown",
   "metadata": {},
   "source": [
    "## Create map for problems - This will be used to shorten the problem text"
   ]
  },
  {
   "cell_type": "code",
   "execution_count": 16,
   "metadata": {},
   "outputs": [
    {
     "data": {
      "text/plain": [
       "{'Contracts',\n",
       " 'DealTech',\n",
       " 'KM',\n",
       " 'Legal Education',\n",
       " 'Legal Ops',\n",
       " 'Legal Research',\n",
       " 'LitTech ',\n",
       " 'Other Practice Tech',\n",
       " 'Peak Load / Staffing',\n",
       " 'RegTech',\n",
       " 'Workflow & PM',\n",
       " 'eDiscovery'}"
      ]
     },
     "execution_count": 16,
     "metadata": {},
     "output_type": "execute_result"
    }
   ],
   "source": [
    "# get list of all problems\n",
    "problems = list(df.problem_1) + list(df.problem_2) + list(df.problem_3)\n",
    "problems = pd.Series(problems)\n",
    "problems.dropna(inplace = True)\n",
    "set(problems)"
   ]
  },
  {
   "cell_type": "code",
   "execution_count": 17,
   "metadata": {},
   "outputs": [],
   "source": [
    "problem_map = {\n",
    "    'Contracts':'C',\n",
    "    'DealTech':'D',\n",
    "    'KM':'K',\n",
    "    'Legal Education':'LE',\n",
    "    'Legal Ops':'LO',\n",
    "    'Legal Research':'LR',\n",
    "    'LitTech ': 'LT',\n",
    "    'Other Practice Tech': 'OPT',\n",
    "    'Peak Load / Staffing':'PLS',\n",
    "    'RegTech':'RT',\n",
    "    'Workflow & PM': 'W',\n",
    "    'eDiscovery':'E' \n",
    "}"
   ]
  },
  {
   "cell_type": "markdown",
   "metadata": {},
   "source": [
    "## Apply map to shorten problems (commented this out for now)"
   ]
  },
  {
   "cell_type": "code",
   "execution_count": 18,
   "metadata": {},
   "outputs": [],
   "source": [
    "# df.problem_1 = df.problem_1.map(problem_map)\n",
    "# df.problem_2 = df.problem_2.map(problem_map)\n",
    "# df.problem_3 = df.problem_3.map(problem_map)"
   ]
  },
  {
   "cell_type": "markdown",
   "metadata": {},
   "source": [
    "## Replace NaN values with \"NONE\" string"
   ]
  },
  {
   "cell_type": "code",
   "execution_count": 19,
   "metadata": {},
   "outputs": [],
   "source": [
    "df.problem_1.fillna('NONE', inplace=True)\n",
    "df.problem_2.fillna('NONE', inplace=True)\n",
    "df.problem_3.fillna('NONE', inplace=True)"
   ]
  },
  {
   "cell_type": "markdown",
   "metadata": {},
   "source": [
    "## There is a typo with \"eDiscovery\".  Fix it here"
   ]
  },
  {
   "cell_type": "code",
   "execution_count": 20,
   "metadata": {},
   "outputs": [
    {
     "data": {
      "text/plain": [
       "Legal Document Automation    85\n",
       "Legal Practice Management    65\n",
       "Legal Compliance             53\n",
       "Legal Marketplace            46\n",
       "Legal Analytics              30\n",
       "Legal Research               27\n",
       "E-Discovery                  19\n",
       "Online Dispute Resolution     8\n",
       "e-Discovery                   1\n",
       "Legal Education               1\n",
       "Name: codex_category, dtype: int64"
      ]
     },
     "execution_count": 20,
     "metadata": {},
     "output_type": "execute_result"
    }
   ],
   "source": [
    "df.codex_category.value_counts()"
   ]
  },
  {
   "cell_type": "code",
   "execution_count": 21,
   "metadata": {},
   "outputs": [],
   "source": [
    "df.loc[df.codex_category=='e-Discovery', 'codex_category'] = 'E-Discovery'"
   ]
  },
  {
   "cell_type": "markdown",
   "metadata": {},
   "source": [
    "## Export the cleansed file"
   ]
  },
  {
   "cell_type": "code",
   "execution_count": 22,
   "metadata": {},
   "outputs": [
    {
     "name": "stdout",
     "output_type": "stream",
     "text": [
      "datasheet_1.csv      firms.csv            investors.csv\r\n",
      "deals.csv            funding_investor.csv\r\n"
     ]
    }
   ],
   "source": [
    "# Find the file location\n",
    "! ls ../../data/interim"
   ]
  },
  {
   "cell_type": "code",
   "execution_count": 23,
   "metadata": {},
   "outputs": [],
   "source": [
    "file_path = '../../data/interim/firms.csv'\n",
    "df.to_csv(file_path)"
   ]
  },
  {
   "cell_type": "code",
   "execution_count": 24,
   "metadata": {},
   "outputs": [
    {
     "data": {
      "text/html": [
       "<div>\n",
       "<style scoped>\n",
       "    .dataframe tbody tr th:only-of-type {\n",
       "        vertical-align: middle;\n",
       "    }\n",
       "\n",
       "    .dataframe tbody tr th {\n",
       "        vertical-align: top;\n",
       "    }\n",
       "\n",
       "    .dataframe thead th {\n",
       "        text-align: right;\n",
       "    }\n",
       "</style>\n",
       "<table border=\"1\" class=\"dataframe\">\n",
       "  <thead>\n",
       "    <tr style=\"text-align: right;\">\n",
       "      <th></th>\n",
       "      <th>firm_id</th>\n",
       "      <th>firm_name</th>\n",
       "      <th>codex_category</th>\n",
       "      <th>country</th>\n",
       "      <th>city</th>\n",
       "      <th>year_founded</th>\n",
       "      <th>market</th>\n",
       "      <th>problem_1</th>\n",
       "      <th>problem_2</th>\n",
       "      <th>problem_3</th>\n",
       "      <th>analytics</th>\n",
       "      <th>ai</th>\n",
       "      <th>point_integrated</th>\n",
       "      <th>company_url</th>\n",
       "      <th>other_link</th>\n",
       "      <th>comments</th>\n",
       "    </tr>\n",
       "  </thead>\n",
       "  <tbody>\n",
       "    <tr>\n",
       "      <th>0</th>\n",
       "      <td>FIRM0002</td>\n",
       "      <td>LexisNexis</td>\n",
       "      <td>Legal Research</td>\n",
       "      <td>USA</td>\n",
       "      <td>New York</td>\n",
       "      <td>1973</td>\n",
       "      <td>Corporate</td>\n",
       "      <td>Legal Research</td>\n",
       "      <td>Other Practice Tech</td>\n",
       "      <td>NONE</td>\n",
       "      <td>1</td>\n",
       "      <td>0</td>\n",
       "      <td>Integrated Solution</td>\n",
       "      <td>https://www.lexisnexis.com/en-us/gateway.page</td>\n",
       "      <td>NaN</td>\n",
       "      <td>LexisNexis started out as a legal research com...</td>\n",
       "    </tr>\n",
       "    <tr>\n",
       "      <th>1</th>\n",
       "      <td>FIRM0003</td>\n",
       "      <td>Korbitec</td>\n",
       "      <td>Legal Document Automation</td>\n",
       "      <td>South Africa</td>\n",
       "      <td>Cape Town</td>\n",
       "      <td>1976</td>\n",
       "      <td>Corporate</td>\n",
       "      <td>Contracts</td>\n",
       "      <td>Other Practice Tech</td>\n",
       "      <td>NONE</td>\n",
       "      <td>1</td>\n",
       "      <td>0</td>\n",
       "      <td>Integrated Solution</td>\n",
       "      <td>https://www.lexisnexis.co.za/</td>\n",
       "      <td>https://www.linkedin.com/company/korbitec/?ori...</td>\n",
       "      <td>Korbitec was acquired by LexisNexis.</td>\n",
       "    </tr>\n",
       "    <tr>\n",
       "      <th>2</th>\n",
       "      <td>FIRM0014</td>\n",
       "      <td>Microsystems</td>\n",
       "      <td>Legal Document Automation</td>\n",
       "      <td>USA</td>\n",
       "      <td>Illinois</td>\n",
       "      <td>1995</td>\n",
       "      <td>Corporate</td>\n",
       "      <td>Contracts</td>\n",
       "      <td>KM</td>\n",
       "      <td>LitTech</td>\n",
       "      <td>1</td>\n",
       "      <td>0</td>\n",
       "      <td>Integrated Solution</td>\n",
       "      <td>https://www.litera.com/products/legal/</td>\n",
       "      <td>https://www.linkedin.com/company/microsystems/</td>\n",
       "      <td>Microsoftsystems became Litera Microsystems in...</td>\n",
       "    </tr>\n",
       "    <tr>\n",
       "      <th>3</th>\n",
       "      <td>FIRM0015</td>\n",
       "      <td>WorkProducts</td>\n",
       "      <td>Legal Practice Management</td>\n",
       "      <td>USA</td>\n",
       "      <td>Virginia</td>\n",
       "      <td>1995</td>\n",
       "      <td>Corporate</td>\n",
       "      <td>eDiscovery</td>\n",
       "      <td>Other Practice Tech</td>\n",
       "      <td>NONE</td>\n",
       "      <td>0</td>\n",
       "      <td>0</td>\n",
       "      <td>Point Solution</td>\n",
       "      <td>http://www.workproducts.com/#</td>\n",
       "      <td>https://www.businesswire.com/news/home/2009072...</td>\n",
       "      <td>NaN</td>\n",
       "    </tr>\n",
       "    <tr>\n",
       "      <th>4</th>\n",
       "      <td>FIRM0021</td>\n",
       "      <td>LiveOffice</td>\n",
       "      <td>Legal Practice Management</td>\n",
       "      <td>USA</td>\n",
       "      <td>California</td>\n",
       "      <td>1998</td>\n",
       "      <td>Corporate</td>\n",
       "      <td>KM</td>\n",
       "      <td>eDiscovery</td>\n",
       "      <td>NONE</td>\n",
       "      <td>0</td>\n",
       "      <td>0</td>\n",
       "      <td>Point Solution</td>\n",
       "      <td>https://www.crunchbase.com/organization/liveof...</td>\n",
       "      <td>https://www.computerworld.com/article/2501427/...</td>\n",
       "      <td>Cloud-based data archiving and storage</td>\n",
       "    </tr>\n",
       "  </tbody>\n",
       "</table>\n",
       "</div>"
      ],
      "text/plain": [
       "    firm_id     firm_name             codex_category       country  \\\n",
       "0  FIRM0002    LexisNexis             Legal Research           USA   \n",
       "1  FIRM0003      Korbitec  Legal Document Automation  South Africa   \n",
       "2  FIRM0014  Microsystems  Legal Document Automation           USA   \n",
       "3  FIRM0015  WorkProducts  Legal Practice Management           USA   \n",
       "4  FIRM0021    LiveOffice  Legal Practice Management           USA   \n",
       "\n",
       "         city  year_founded     market       problem_1            problem_2  \\\n",
       "0    New York          1973  Corporate  Legal Research  Other Practice Tech   \n",
       "1   Cape Town          1976  Corporate       Contracts  Other Practice Tech   \n",
       "2    Illinois          1995  Corporate       Contracts                   KM   \n",
       "3    Virginia          1995  Corporate      eDiscovery  Other Practice Tech   \n",
       "4  California          1998  Corporate              KM           eDiscovery   \n",
       "\n",
       "  problem_3  analytics  ai     point_integrated  \\\n",
       "0      NONE          1   0  Integrated Solution   \n",
       "1      NONE          1   0  Integrated Solution   \n",
       "2  LitTech           1   0  Integrated Solution   \n",
       "3      NONE          0   0       Point Solution   \n",
       "4      NONE          0   0       Point Solution   \n",
       "\n",
       "                                         company_url  \\\n",
       "0      https://www.lexisnexis.com/en-us/gateway.page   \n",
       "1                      https://www.lexisnexis.co.za/   \n",
       "2             https://www.litera.com/products/legal/   \n",
       "3                      http://www.workproducts.com/#   \n",
       "4  https://www.crunchbase.com/organization/liveof...   \n",
       "\n",
       "                                          other_link  \\\n",
       "0                                                NaN   \n",
       "1  https://www.linkedin.com/company/korbitec/?ori...   \n",
       "2     https://www.linkedin.com/company/microsystems/   \n",
       "3  https://www.businesswire.com/news/home/2009072...   \n",
       "4  https://www.computerworld.com/article/2501427/...   \n",
       "\n",
       "                                           comments   \n",
       "0  LexisNexis started out as a legal research com...  \n",
       "1               Korbitec was acquired by LexisNexis.  \n",
       "2  Microsoftsystems became Litera Microsystems in...  \n",
       "3                                                NaN  \n",
       "4             Cloud-based data archiving and storage  "
      ]
     },
     "execution_count": 24,
     "metadata": {},
     "output_type": "execute_result"
    }
   ],
   "source": [
    "df.head(5)"
   ]
  }
 ],
 "metadata": {
  "kernelspec": {
   "display_name": "Python 3",
   "language": "python",
   "name": "python3"
  },
  "language_info": {
   "codemirror_mode": {
    "name": "ipython",
    "version": 3
   },
   "file_extension": ".py",
   "mimetype": "text/x-python",
   "name": "python",
   "nbconvert_exporter": "python",
   "pygments_lexer": "ipython3",
   "version": "3.6.4"
  }
 },
 "nbformat": 4,
 "nbformat_minor": 2
}
