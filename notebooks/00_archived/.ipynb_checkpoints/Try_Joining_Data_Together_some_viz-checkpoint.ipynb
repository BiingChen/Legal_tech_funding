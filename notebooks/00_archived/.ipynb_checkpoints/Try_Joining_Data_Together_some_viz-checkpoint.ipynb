{
 "cells": [
  {
   "cell_type": "markdown",
   "metadata": {},
   "source": [
    "## Try joining the data to be able to examine the amount of money flowing to each of the different problem areas"
   ]
  },
  {
   "cell_type": "markdown",
   "metadata": {},
   "source": [
    "Later, I can try to join the data and look at some other interesting questions like - "
   ]
  },
  {
   "cell_type": "markdown",
   "metadata": {},
   "source": [
    "I only care about the investors if I want to see specifically which areas investors are investing in.  But it seems like there are too many investors, so the data gets too granular.  But let's try it anyway and see what it looks like"
   ]
  },
  {
   "cell_type": "markdown",
   "metadata": {},
   "source": [
    "**Questions:**\n",
    "- How much money is flowing to companies utilizing AI?  \n",
    "- Utilizing analytics? \n",
    "- Corporate vs. consumer?  "
   ]
  },
  {
   "cell_type": "code",
   "execution_count": 21,
   "metadata": {},
   "outputs": [],
   "source": [
    "import pandas as pd\n",
    "import seaborn as sns\n",
    "from matplotlib import pyplot as plt\n",
    "%matplotlib inline"
   ]
  },
  {
   "cell_type": "code",
   "execution_count": 22,
   "metadata": {},
   "outputs": [],
   "source": [
    "path = '../data/interim/funding_investor.csv'\n",
    "df_fund = pd.read_csv(path, index_col = 0)\n",
    "\n",
    "path2 = '../data/interim/datasheet_1.csv'\n",
    "df_firm = pd.read_csv(path2, index_col = 0)"
   ]
  },
  {
   "cell_type": "code",
   "execution_count": 23,
   "metadata": {},
   "outputs": [
    {
     "data": {
      "text/html": [
       "<div>\n",
       "<style scoped>\n",
       "    .dataframe tbody tr th:only-of-type {\n",
       "        vertical-align: middle;\n",
       "    }\n",
       "\n",
       "    .dataframe tbody tr th {\n",
       "        vertical-align: top;\n",
       "    }\n",
       "\n",
       "    .dataframe thead th {\n",
       "        text-align: right;\n",
       "    }\n",
       "</style>\n",
       "<table border=\"1\" class=\"dataframe\">\n",
       "  <thead>\n",
       "    <tr style=\"text-align: right;\">\n",
       "      <th></th>\n",
       "      <th>deal_ id</th>\n",
       "      <th>deal_date</th>\n",
       "      <th>deal_year</th>\n",
       "      <th>firm_name</th>\n",
       "      <th>firm_id</th>\n",
       "      <th>round_total</th>\n",
       "      <th>deal_type</th>\n",
       "      <th>country</th>\n",
       "      <th>city</th>\n",
       "      <th>year_founded</th>\n",
       "      <th>codex_category</th>\n",
       "      <th>firm_age</th>\n",
       "    </tr>\n",
       "  </thead>\n",
       "  <tbody>\n",
       "    <tr>\n",
       "      <th>0</th>\n",
       "      <td>DEAL0001</td>\n",
       "      <td>2000-03-22</td>\n",
       "      <td>2000</td>\n",
       "      <td>LexisNexis</td>\n",
       "      <td>FIRM0002</td>\n",
       "      <td>30000000.0</td>\n",
       "      <td>Venture Capital</td>\n",
       "      <td>USA</td>\n",
       "      <td>New York</td>\n",
       "      <td>1973</td>\n",
       "      <td>Legal Research</td>\n",
       "      <td>27</td>\n",
       "    </tr>\n",
       "    <tr>\n",
       "      <th>1</th>\n",
       "      <td>DEAL0002</td>\n",
       "      <td>2002-10-03</td>\n",
       "      <td>2002</td>\n",
       "      <td>Workshare</td>\n",
       "      <td>FIRM0027</td>\n",
       "      <td>4500000.0</td>\n",
       "      <td>Series A</td>\n",
       "      <td>UK</td>\n",
       "      <td>London</td>\n",
       "      <td>1999</td>\n",
       "      <td>Legal Analytics</td>\n",
       "      <td>3</td>\n",
       "    </tr>\n",
       "    <tr>\n",
       "      <th>3</th>\n",
       "      <td>DEAL0004</td>\n",
       "      <td>2003-10-01</td>\n",
       "      <td>2003</td>\n",
       "      <td>XMLAW</td>\n",
       "      <td>FIRM0051</td>\n",
       "      <td>150000.0</td>\n",
       "      <td>Seed Fund</td>\n",
       "      <td>USA</td>\n",
       "      <td>Boston</td>\n",
       "      <td>2003</td>\n",
       "      <td>Legal Practice Management</td>\n",
       "      <td>0</td>\n",
       "    </tr>\n",
       "    <tr>\n",
       "      <th>5</th>\n",
       "      <td>DEAL0006</td>\n",
       "      <td>2004-06-14</td>\n",
       "      <td>2004</td>\n",
       "      <td>DocuSign</td>\n",
       "      <td>FIRM0045</td>\n",
       "      <td>4600000.0</td>\n",
       "      <td>Series A</td>\n",
       "      <td>USA</td>\n",
       "      <td>San Francisco</td>\n",
       "      <td>2003</td>\n",
       "      <td>Legal Practice Management</td>\n",
       "      <td>1</td>\n",
       "    </tr>\n",
       "    <tr>\n",
       "      <th>6</th>\n",
       "      <td>DEAL0007</td>\n",
       "      <td>2004-12-27</td>\n",
       "      <td>2004</td>\n",
       "      <td>Brainspace</td>\n",
       "      <td>FIRM0059</td>\n",
       "      <td>1000000.0</td>\n",
       "      <td>Venture Capital</td>\n",
       "      <td>USA</td>\n",
       "      <td>Texas</td>\n",
       "      <td>2005</td>\n",
       "      <td>Legal Document Automation</td>\n",
       "      <td>0</td>\n",
       "    </tr>\n",
       "  </tbody>\n",
       "</table>\n",
       "</div>"
      ],
      "text/plain": [
       "   deal_ id   deal_date  deal_year   firm_name   firm_id  round_total  \\\n",
       "0  DEAL0001  2000-03-22       2000  LexisNexis  FIRM0002   30000000.0   \n",
       "1  DEAL0002  2002-10-03       2002   Workshare  FIRM0027    4500000.0   \n",
       "3  DEAL0004  2003-10-01       2003       XMLAW  FIRM0051     150000.0   \n",
       "5  DEAL0006  2004-06-14       2004    DocuSign  FIRM0045    4600000.0   \n",
       "6  DEAL0007  2004-12-27       2004  Brainspace  FIRM0059    1000000.0   \n",
       "\n",
       "         deal_type country           city  year_founded  \\\n",
       "0  Venture Capital     USA       New York          1973   \n",
       "1         Series A      UK         London          1999   \n",
       "3        Seed Fund     USA         Boston          2003   \n",
       "5         Series A     USA  San Francisco          2003   \n",
       "6  Venture Capital     USA          Texas          2005   \n",
       "\n",
       "              codex_category  firm_age  \n",
       "0             Legal Research        27  \n",
       "1            Legal Analytics         3  \n",
       "3  Legal Practice Management         0  \n",
       "5  Legal Practice Management         1  \n",
       "6  Legal Document Automation         0  "
      ]
     },
     "execution_count": 23,
     "metadata": {},
     "output_type": "execute_result"
    }
   ],
   "source": [
    "df_fund.head()"
   ]
  },
  {
   "cell_type": "code",
   "execution_count": 24,
   "metadata": {},
   "outputs": [
    {
     "name": "stdout",
     "output_type": "stream",
     "text": [
      "../data/interim/datasheet_1.csv\r\n"
     ]
    }
   ],
   "source": [
    "! ls ../data/interim/datasheet_1.csv"
   ]
  },
  {
   "cell_type": "code",
   "execution_count": 25,
   "metadata": {},
   "outputs": [
    {
     "data": {
      "text/html": [
       "<div>\n",
       "<style scoped>\n",
       "    .dataframe tbody tr th:only-of-type {\n",
       "        vertical-align: middle;\n",
       "    }\n",
       "\n",
       "    .dataframe tbody tr th {\n",
       "        vertical-align: top;\n",
       "    }\n",
       "\n",
       "    .dataframe thead th {\n",
       "        text-align: right;\n",
       "    }\n",
       "</style>\n",
       "<table border=\"1\" class=\"dataframe\">\n",
       "  <thead>\n",
       "    <tr style=\"text-align: right;\">\n",
       "      <th></th>\n",
       "      <th>firm_id</th>\n",
       "      <th>firm_name</th>\n",
       "      <th>codex_category</th>\n",
       "      <th>country</th>\n",
       "      <th>city</th>\n",
       "      <th>year_founded</th>\n",
       "      <th>market</th>\n",
       "      <th>problem_1</th>\n",
       "      <th>problem_2</th>\n",
       "      <th>problem_3</th>\n",
       "      <th>analytics</th>\n",
       "      <th>ai</th>\n",
       "      <th>point_integrated</th>\n",
       "      <th>company_url</th>\n",
       "      <th>other_link</th>\n",
       "      <th>comments</th>\n",
       "    </tr>\n",
       "  </thead>\n",
       "  <tbody>\n",
       "    <tr>\n",
       "      <th>0</th>\n",
       "      <td>FIRM0002</td>\n",
       "      <td>LexisNexis</td>\n",
       "      <td>Legal Research</td>\n",
       "      <td>USA</td>\n",
       "      <td>New York</td>\n",
       "      <td>1973</td>\n",
       "      <td>Corporate</td>\n",
       "      <td>Legal Research</td>\n",
       "      <td>Other Practice Tech</td>\n",
       "      <td>NONE</td>\n",
       "      <td>1</td>\n",
       "      <td>0</td>\n",
       "      <td>Integrated Solution</td>\n",
       "      <td>https://www.lexisnexis.com/en-us/gateway.page</td>\n",
       "      <td>NaN</td>\n",
       "      <td>LexisNexis started out as a legal research com...</td>\n",
       "    </tr>\n",
       "    <tr>\n",
       "      <th>1</th>\n",
       "      <td>FIRM0003</td>\n",
       "      <td>Korbitec</td>\n",
       "      <td>Legal Document Automation</td>\n",
       "      <td>South Africa</td>\n",
       "      <td>Cape Town</td>\n",
       "      <td>1976</td>\n",
       "      <td>Corporate</td>\n",
       "      <td>Contracts</td>\n",
       "      <td>Other Practice Tech</td>\n",
       "      <td>NONE</td>\n",
       "      <td>1</td>\n",
       "      <td>0</td>\n",
       "      <td>Integrated Solution</td>\n",
       "      <td>https://www.lexisnexis.co.za/</td>\n",
       "      <td>https://www.linkedin.com/company/korbitec/?ori...</td>\n",
       "      <td>Korbitec was acquired by LexisNexis.</td>\n",
       "    </tr>\n",
       "    <tr>\n",
       "      <th>2</th>\n",
       "      <td>FIRM0014</td>\n",
       "      <td>Microsystems</td>\n",
       "      <td>Legal Document Automation</td>\n",
       "      <td>USA</td>\n",
       "      <td>Illinois</td>\n",
       "      <td>1995</td>\n",
       "      <td>Corporate</td>\n",
       "      <td>Contracts</td>\n",
       "      <td>KM</td>\n",
       "      <td>LitTech</td>\n",
       "      <td>1</td>\n",
       "      <td>0</td>\n",
       "      <td>Integrated Solution</td>\n",
       "      <td>https://www.litera.com/products/legal/</td>\n",
       "      <td>https://www.linkedin.com/company/microsystems/</td>\n",
       "      <td>Microsoftsystems became Litera Microsystems in...</td>\n",
       "    </tr>\n",
       "    <tr>\n",
       "      <th>3</th>\n",
       "      <td>FIRM0015</td>\n",
       "      <td>WorkProducts</td>\n",
       "      <td>Legal Practice Management</td>\n",
       "      <td>USA</td>\n",
       "      <td>Virginia</td>\n",
       "      <td>1995</td>\n",
       "      <td>Corporate</td>\n",
       "      <td>eDiscovery</td>\n",
       "      <td>Other Practice Tech</td>\n",
       "      <td>NONE</td>\n",
       "      <td>0</td>\n",
       "      <td>0</td>\n",
       "      <td>Point Solution</td>\n",
       "      <td>http://www.workproducts.com/#</td>\n",
       "      <td>https://www.businesswire.com/news/home/2009072...</td>\n",
       "      <td>NaN</td>\n",
       "    </tr>\n",
       "    <tr>\n",
       "      <th>4</th>\n",
       "      <td>FIRM0021</td>\n",
       "      <td>LiveOffice</td>\n",
       "      <td>Legal Practice Management</td>\n",
       "      <td>USA</td>\n",
       "      <td>California</td>\n",
       "      <td>1998</td>\n",
       "      <td>Corporate</td>\n",
       "      <td>KM</td>\n",
       "      <td>eDiscovery</td>\n",
       "      <td>NONE</td>\n",
       "      <td>0</td>\n",
       "      <td>0</td>\n",
       "      <td>Point Solution</td>\n",
       "      <td>https://www.crunchbase.com/organization/liveof...</td>\n",
       "      <td>https://www.computerworld.com/article/2501427/...</td>\n",
       "      <td>Cloud-based data archiving and storage</td>\n",
       "    </tr>\n",
       "  </tbody>\n",
       "</table>\n",
       "</div>"
      ],
      "text/plain": [
       "    firm_id     firm_name             codex_category       country  \\\n",
       "0  FIRM0002    LexisNexis             Legal Research           USA   \n",
       "1  FIRM0003      Korbitec  Legal Document Automation  South Africa   \n",
       "2  FIRM0014  Microsystems  Legal Document Automation           USA   \n",
       "3  FIRM0015  WorkProducts  Legal Practice Management           USA   \n",
       "4  FIRM0021    LiveOffice  Legal Practice Management           USA   \n",
       "\n",
       "         city  year_founded     market       problem_1            problem_2  \\\n",
       "0    New York          1973  Corporate  Legal Research  Other Practice Tech   \n",
       "1   Cape Town          1976  Corporate       Contracts  Other Practice Tech   \n",
       "2    Illinois          1995  Corporate       Contracts                   KM   \n",
       "3    Virginia          1995  Corporate      eDiscovery  Other Practice Tech   \n",
       "4  California          1998  Corporate              KM           eDiscovery   \n",
       "\n",
       "  problem_3  analytics  ai     point_integrated  \\\n",
       "0      NONE          1   0  Integrated Solution   \n",
       "1      NONE          1   0  Integrated Solution   \n",
       "2  LitTech           1   0  Integrated Solution   \n",
       "3      NONE          0   0       Point Solution   \n",
       "4      NONE          0   0       Point Solution   \n",
       "\n",
       "                                         company_url  \\\n",
       "0      https://www.lexisnexis.com/en-us/gateway.page   \n",
       "1                      https://www.lexisnexis.co.za/   \n",
       "2             https://www.litera.com/products/legal/   \n",
       "3                      http://www.workproducts.com/#   \n",
       "4  https://www.crunchbase.com/organization/liveof...   \n",
       "\n",
       "                                          other_link  \\\n",
       "0                                                NaN   \n",
       "1  https://www.linkedin.com/company/korbitec/?ori...   \n",
       "2     https://www.linkedin.com/company/microsystems/   \n",
       "3  https://www.businesswire.com/news/home/2009072...   \n",
       "4  https://www.computerworld.com/article/2501427/...   \n",
       "\n",
       "                                           comments   \n",
       "0  LexisNexis started out as a legal research com...  \n",
       "1               Korbitec was acquired by LexisNexis.  \n",
       "2  Microsoftsystems became Litera Microsystems in...  \n",
       "3                                                NaN  \n",
       "4             Cloud-based data archiving and storage  "
      ]
     },
     "execution_count": 25,
     "metadata": {},
     "output_type": "execute_result"
    }
   ],
   "source": [
    "df_firm.head()"
   ]
  },
  {
   "cell_type": "markdown",
   "metadata": {},
   "source": [
    "## Prep df_firm to get merged to fund"
   ]
  },
  {
   "cell_type": "code",
   "execution_count": 31,
   "metadata": {},
   "outputs": [],
   "source": [
    "merge = df_firm[['firm_id','market','problem_1','problem_2','problem_3','analytics','ai','point_integrated']]\n",
    "df = df_fund.merge(merge, how='left',on='firm_id')"
   ]
  },
  {
   "cell_type": "code",
   "execution_count": null,
   "metadata": {},
   "outputs": [],
   "source": []
  },
  {
   "cell_type": "code",
   "execution_count": 32,
   "metadata": {},
   "outputs": [
    {
     "data": {
      "text/html": [
       "<div>\n",
       "<style scoped>\n",
       "    .dataframe tbody tr th:only-of-type {\n",
       "        vertical-align: middle;\n",
       "    }\n",
       "\n",
       "    .dataframe tbody tr th {\n",
       "        vertical-align: top;\n",
       "    }\n",
       "\n",
       "    .dataframe thead th {\n",
       "        text-align: right;\n",
       "    }\n",
       "</style>\n",
       "<table border=\"1\" class=\"dataframe\">\n",
       "  <thead>\n",
       "    <tr style=\"text-align: right;\">\n",
       "      <th></th>\n",
       "      <th>deal_ id</th>\n",
       "      <th>deal_date</th>\n",
       "      <th>deal_year</th>\n",
       "      <th>firm_name</th>\n",
       "      <th>firm_id</th>\n",
       "      <th>round_total</th>\n",
       "      <th>deal_type</th>\n",
       "      <th>country</th>\n",
       "      <th>city</th>\n",
       "      <th>year_founded</th>\n",
       "      <th>codex_category</th>\n",
       "      <th>firm_age</th>\n",
       "      <th>market</th>\n",
       "      <th>problem_1</th>\n",
       "      <th>problem_2</th>\n",
       "      <th>problem_3</th>\n",
       "      <th>analytics</th>\n",
       "      <th>ai</th>\n",
       "      <th>point_integrated</th>\n",
       "    </tr>\n",
       "  </thead>\n",
       "  <tbody>\n",
       "    <tr>\n",
       "      <th>0</th>\n",
       "      <td>DEAL0001</td>\n",
       "      <td>2000-03-22</td>\n",
       "      <td>2000</td>\n",
       "      <td>LexisNexis</td>\n",
       "      <td>FIRM0002</td>\n",
       "      <td>30000000.0</td>\n",
       "      <td>Venture Capital</td>\n",
       "      <td>USA</td>\n",
       "      <td>New York</td>\n",
       "      <td>1973</td>\n",
       "      <td>Legal Research</td>\n",
       "      <td>27</td>\n",
       "      <td>Corporate</td>\n",
       "      <td>Legal Research</td>\n",
       "      <td>Other Practice Tech</td>\n",
       "      <td>NONE</td>\n",
       "      <td>1</td>\n",
       "      <td>0</td>\n",
       "      <td>Integrated Solution</td>\n",
       "    </tr>\n",
       "    <tr>\n",
       "      <th>1</th>\n",
       "      <td>DEAL0002</td>\n",
       "      <td>2002-10-03</td>\n",
       "      <td>2002</td>\n",
       "      <td>Workshare</td>\n",
       "      <td>FIRM0027</td>\n",
       "      <td>4500000.0</td>\n",
       "      <td>Series A</td>\n",
       "      <td>UK</td>\n",
       "      <td>London</td>\n",
       "      <td>1999</td>\n",
       "      <td>Legal Analytics</td>\n",
       "      <td>3</td>\n",
       "      <td>Corporate</td>\n",
       "      <td>Contracts</td>\n",
       "      <td>Legal Research</td>\n",
       "      <td>NONE</td>\n",
       "      <td>0</td>\n",
       "      <td>0</td>\n",
       "      <td>Point Solution</td>\n",
       "    </tr>\n",
       "    <tr>\n",
       "      <th>2</th>\n",
       "      <td>DEAL0004</td>\n",
       "      <td>2003-10-01</td>\n",
       "      <td>2003</td>\n",
       "      <td>XMLAW</td>\n",
       "      <td>FIRM0051</td>\n",
       "      <td>150000.0</td>\n",
       "      <td>Seed Fund</td>\n",
       "      <td>USA</td>\n",
       "      <td>Boston</td>\n",
       "      <td>2003</td>\n",
       "      <td>Legal Practice Management</td>\n",
       "      <td>0</td>\n",
       "      <td>Corporate</td>\n",
       "      <td>Contracts</td>\n",
       "      <td>Other Practice Tech</td>\n",
       "      <td>NONE</td>\n",
       "      <td>0</td>\n",
       "      <td>0</td>\n",
       "      <td>Integrated Solution</td>\n",
       "    </tr>\n",
       "    <tr>\n",
       "      <th>3</th>\n",
       "      <td>DEAL0006</td>\n",
       "      <td>2004-06-14</td>\n",
       "      <td>2004</td>\n",
       "      <td>DocuSign</td>\n",
       "      <td>FIRM0045</td>\n",
       "      <td>4600000.0</td>\n",
       "      <td>Series A</td>\n",
       "      <td>USA</td>\n",
       "      <td>San Francisco</td>\n",
       "      <td>2003</td>\n",
       "      <td>Legal Practice Management</td>\n",
       "      <td>1</td>\n",
       "      <td>Corporate</td>\n",
       "      <td>Contracts</td>\n",
       "      <td>Other Practice Tech</td>\n",
       "      <td>NONE</td>\n",
       "      <td>0</td>\n",
       "      <td>0</td>\n",
       "      <td>Point Solution</td>\n",
       "    </tr>\n",
       "    <tr>\n",
       "      <th>4</th>\n",
       "      <td>DEAL0007</td>\n",
       "      <td>2004-12-27</td>\n",
       "      <td>2004</td>\n",
       "      <td>Brainspace</td>\n",
       "      <td>FIRM0059</td>\n",
       "      <td>1000000.0</td>\n",
       "      <td>Venture Capital</td>\n",
       "      <td>USA</td>\n",
       "      <td>Texas</td>\n",
       "      <td>2005</td>\n",
       "      <td>Legal Document Automation</td>\n",
       "      <td>0</td>\n",
       "      <td>Corporate</td>\n",
       "      <td>eDiscovery</td>\n",
       "      <td>NONE</td>\n",
       "      <td>NONE</td>\n",
       "      <td>1</td>\n",
       "      <td>0</td>\n",
       "      <td>Point Solution</td>\n",
       "    </tr>\n",
       "  </tbody>\n",
       "</table>\n",
       "</div>"
      ],
      "text/plain": [
       "   deal_ id   deal_date  deal_year   firm_name   firm_id  round_total  \\\n",
       "0  DEAL0001  2000-03-22       2000  LexisNexis  FIRM0002   30000000.0   \n",
       "1  DEAL0002  2002-10-03       2002   Workshare  FIRM0027    4500000.0   \n",
       "2  DEAL0004  2003-10-01       2003       XMLAW  FIRM0051     150000.0   \n",
       "3  DEAL0006  2004-06-14       2004    DocuSign  FIRM0045    4600000.0   \n",
       "4  DEAL0007  2004-12-27       2004  Brainspace  FIRM0059    1000000.0   \n",
       "\n",
       "         deal_type country           city  year_founded  \\\n",
       "0  Venture Capital     USA       New York          1973   \n",
       "1         Series A      UK         London          1999   \n",
       "2        Seed Fund     USA         Boston          2003   \n",
       "3         Series A     USA  San Francisco          2003   \n",
       "4  Venture Capital     USA          Texas          2005   \n",
       "\n",
       "              codex_category  firm_age     market       problem_1  \\\n",
       "0             Legal Research        27  Corporate  Legal Research   \n",
       "1            Legal Analytics         3  Corporate       Contracts   \n",
       "2  Legal Practice Management         0  Corporate       Contracts   \n",
       "3  Legal Practice Management         1  Corporate       Contracts   \n",
       "4  Legal Document Automation         0  Corporate      eDiscovery   \n",
       "\n",
       "             problem_2 problem_3  analytics  ai     point_integrated  \n",
       "0  Other Practice Tech      NONE          1   0  Integrated Solution  \n",
       "1       Legal Research      NONE          0   0       Point Solution  \n",
       "2  Other Practice Tech      NONE          0   0  Integrated Solution  \n",
       "3  Other Practice Tech      NONE          0   0       Point Solution  \n",
       "4                 NONE      NONE          1   0       Point Solution  "
      ]
     },
     "execution_count": 32,
     "metadata": {},
     "output_type": "execute_result"
    }
   ],
   "source": [
    "df.head()"
   ]
  },
  {
   "cell_type": "code",
   "execution_count": 35,
   "metadata": {},
   "outputs": [
    {
     "data": {
      "image/png": "[encoded data removed]",
      "text/plain": [
       "<matplotlib.figure.Figure at 0x1a15beaf98>"
      ]
     },
     "metadata": {},
     "output_type": "display_data"
    }
   ],
   "source": [
    "sns.boxplot(x='analytics', y='firm_age', data=df)\n",
    "plt.title('Firm age at funding by Codex Category')\n",
    "plt.xticks(rotation = 90);"
   ]
  },
  {
   "cell_type": "code",
   "execution_count": 41,
   "metadata": {},
   "outputs": [
    {
     "data": {
      "image/png": "[encoded data removed]",
      "text/plain": [
       "<matplotlib.figure.Figure at 0x1134ed5c0>"
      ]
     },
     "metadata": {},
     "output_type": "display_data"
    }
   ],
   "source": [
    "df.groupby(['point_integrated'])['round_total'].sum().plot(kind='bar')\n",
    "plt.title('Funding by codex category');"
   ]
  },
  {
   "cell_type": "code",
   "execution_count": 37,
   "metadata": {},
   "outputs": [
    {
     "data": {
      "image/png": "[encoded data removed]",
      "text/plain": [
       "<matplotlib.figure.Figure at 0x1a1ebd5518>"
      ]
     },
     "metadata": {},
     "output_type": "display_data"
    }
   ],
   "source": [
    "df.groupby(['market'])['round_total'].count().plot(kind='bar')\n",
    "plt.title('Funding by codex category');"
   ]
  },
  {
   "cell_type": "code",
   "execution_count": 42,
   "metadata": {},
   "outputs": [
    {
     "data": {
      "text/plain": [
       "(419, 19)"
      ]
     },
     "execution_count": 42,
     "metadata": {},
     "output_type": "execute_result"
    }
   ],
   "source": [
    "df.shape"
   ]
  },
  {
   "cell_type": "code",
   "execution_count": 57,
   "metadata": {},
   "outputs": [],
   "source": [
    "df['round_total_size'] = df.round_total/100000"
   ]
  },
  {
   "cell_type": "code",
   "execution_count": 58,
   "metadata": {},
   "outputs": [
    {
     "data": {
      "text/html": [
       "<div>\n",
       "<style scoped>\n",
       "    .dataframe tbody tr th:only-of-type {\n",
       "        vertical-align: middle;\n",
       "    }\n",
       "\n",
       "    .dataframe tbody tr th {\n",
       "        vertical-align: top;\n",
       "    }\n",
       "\n",
       "    .dataframe thead th {\n",
       "        text-align: right;\n",
       "    }\n",
       "</style>\n",
       "<table border=\"1\" class=\"dataframe\">\n",
       "  <thead>\n",
       "    <tr style=\"text-align: right;\">\n",
       "      <th></th>\n",
       "      <th>deal_ id</th>\n",
       "      <th>deal_date</th>\n",
       "      <th>deal_year</th>\n",
       "      <th>firm_name</th>\n",
       "      <th>firm_id</th>\n",
       "      <th>round_total</th>\n",
       "      <th>deal_type</th>\n",
       "      <th>country</th>\n",
       "      <th>city</th>\n",
       "      <th>year_founded</th>\n",
       "      <th>codex_category</th>\n",
       "      <th>firm_age</th>\n",
       "      <th>market</th>\n",
       "      <th>problem_1</th>\n",
       "      <th>problem_2</th>\n",
       "      <th>problem_3</th>\n",
       "      <th>analytics</th>\n",
       "      <th>ai</th>\n",
       "      <th>point_integrated</th>\n",
       "      <th>round_total_size</th>\n",
       "    </tr>\n",
       "  </thead>\n",
       "  <tbody>\n",
       "    <tr>\n",
       "      <th>0</th>\n",
       "      <td>DEAL0001</td>\n",
       "      <td>2000-03-22</td>\n",
       "      <td>2000</td>\n",
       "      <td>LexisNexis</td>\n",
       "      <td>FIRM0002</td>\n",
       "      <td>30000000.0</td>\n",
       "      <td>Venture Capital</td>\n",
       "      <td>USA</td>\n",
       "      <td>New York</td>\n",
       "      <td>1973</td>\n",
       "      <td>Legal Research</td>\n",
       "      <td>27</td>\n",
       "      <td>Corporate</td>\n",
       "      <td>Legal Research</td>\n",
       "      <td>Other Practice Tech</td>\n",
       "      <td>NONE</td>\n",
       "      <td>1</td>\n",
       "      <td>0</td>\n",
       "      <td>Integrated Solution</td>\n",
       "      <td>300.0</td>\n",
       "    </tr>\n",
       "    <tr>\n",
       "      <th>1</th>\n",
       "      <td>DEAL0002</td>\n",
       "      <td>2002-10-03</td>\n",
       "      <td>2002</td>\n",
       "      <td>Workshare</td>\n",
       "      <td>FIRM0027</td>\n",
       "      <td>4500000.0</td>\n",
       "      <td>Series A</td>\n",
       "      <td>UK</td>\n",
       "      <td>London</td>\n",
       "      <td>1999</td>\n",
       "      <td>Legal Analytics</td>\n",
       "      <td>3</td>\n",
       "      <td>Corporate</td>\n",
       "      <td>Contracts</td>\n",
       "      <td>Legal Research</td>\n",
       "      <td>NONE</td>\n",
       "      <td>0</td>\n",
       "      <td>0</td>\n",
       "      <td>Point Solution</td>\n",
       "      <td>45.0</td>\n",
       "    </tr>\n",
       "    <tr>\n",
       "      <th>2</th>\n",
       "      <td>DEAL0004</td>\n",
       "      <td>2003-10-01</td>\n",
       "      <td>2003</td>\n",
       "      <td>XMLAW</td>\n",
       "      <td>FIRM0051</td>\n",
       "      <td>150000.0</td>\n",
       "      <td>Seed Fund</td>\n",
       "      <td>USA</td>\n",
       "      <td>Boston</td>\n",
       "      <td>2003</td>\n",
       "      <td>Legal Practice Management</td>\n",
       "      <td>0</td>\n",
       "      <td>Corporate</td>\n",
       "      <td>Contracts</td>\n",
       "      <td>Other Practice Tech</td>\n",
       "      <td>NONE</td>\n",
       "      <td>0</td>\n",
       "      <td>0</td>\n",
       "      <td>Integrated Solution</td>\n",
       "      <td>1.5</td>\n",
       "    </tr>\n",
       "    <tr>\n",
       "      <th>3</th>\n",
       "      <td>DEAL0006</td>\n",
       "      <td>2004-06-14</td>\n",
       "      <td>2004</td>\n",
       "      <td>DocuSign</td>\n",
       "      <td>FIRM0045</td>\n",
       "      <td>4600000.0</td>\n",
       "      <td>Series A</td>\n",
       "      <td>USA</td>\n",
       "      <td>San Francisco</td>\n",
       "      <td>2003</td>\n",
       "      <td>Legal Practice Management</td>\n",
       "      <td>1</td>\n",
       "      <td>Corporate</td>\n",
       "      <td>Contracts</td>\n",
       "      <td>Other Practice Tech</td>\n",
       "      <td>NONE</td>\n",
       "      <td>0</td>\n",
       "      <td>0</td>\n",
       "      <td>Point Solution</td>\n",
       "      <td>46.0</td>\n",
       "    </tr>\n",
       "    <tr>\n",
       "      <th>4</th>\n",
       "      <td>DEAL0007</td>\n",
       "      <td>2004-12-27</td>\n",
       "      <td>2004</td>\n",
       "      <td>Brainspace</td>\n",
       "      <td>FIRM0059</td>\n",
       "      <td>1000000.0</td>\n",
       "      <td>Venture Capital</td>\n",
       "      <td>USA</td>\n",
       "      <td>Texas</td>\n",
       "      <td>2005</td>\n",
       "      <td>Legal Document Automation</td>\n",
       "      <td>0</td>\n",
       "      <td>Corporate</td>\n",
       "      <td>eDiscovery</td>\n",
       "      <td>NONE</td>\n",
       "      <td>NONE</td>\n",
       "      <td>1</td>\n",
       "      <td>0</td>\n",
       "      <td>Point Solution</td>\n",
       "      <td>10.0</td>\n",
       "    </tr>\n",
       "  </tbody>\n",
       "</table>\n",
       "</div>"
      ],
      "text/plain": [
       "   deal_ id   deal_date  deal_year   firm_name   firm_id  round_total  \\\n",
       "0  DEAL0001  2000-03-22       2000  LexisNexis  FIRM0002   30000000.0   \n",
       "1  DEAL0002  2002-10-03       2002   Workshare  FIRM0027    4500000.0   \n",
       "2  DEAL0004  2003-10-01       2003       XMLAW  FIRM0051     150000.0   \n",
       "3  DEAL0006  2004-06-14       2004    DocuSign  FIRM0045    4600000.0   \n",
       "4  DEAL0007  2004-12-27       2004  Brainspace  FIRM0059    1000000.0   \n",
       "\n",
       "         deal_type country           city  year_founded  \\\n",
       "0  Venture Capital     USA       New York          1973   \n",
       "1         Series A      UK         London          1999   \n",
       "2        Seed Fund     USA         Boston          2003   \n",
       "3         Series A     USA  San Francisco          2003   \n",
       "4  Venture Capital     USA          Texas          2005   \n",
       "\n",
       "              codex_category  firm_age     market       problem_1  \\\n",
       "0             Legal Research        27  Corporate  Legal Research   \n",
       "1            Legal Analytics         3  Corporate       Contracts   \n",
       "2  Legal Practice Management         0  Corporate       Contracts   \n",
       "3  Legal Practice Management         1  Corporate       Contracts   \n",
       "4  Legal Document Automation         0  Corporate      eDiscovery   \n",
       "\n",
       "             problem_2 problem_3  analytics  ai     point_integrated  \\\n",
       "0  Other Practice Tech      NONE          1   0  Integrated Solution   \n",
       "1       Legal Research      NONE          0   0       Point Solution   \n",
       "2  Other Practice Tech      NONE          0   0  Integrated Solution   \n",
       "3  Other Practice Tech      NONE          0   0       Point Solution   \n",
       "4                 NONE      NONE          1   0       Point Solution   \n",
       "\n",
       "   round_total_size  \n",
       "0             300.0  \n",
       "1              45.0  \n",
       "2               1.5  \n",
       "3              46.0  \n",
       "4              10.0  "
      ]
     },
     "execution_count": 58,
     "metadata": {},
     "output_type": "execute_result"
    }
   ],
   "source": [
    "df.head()"
   ]
  },
  {
   "cell_type": "code",
   "execution_count": 44,
   "metadata": {},
   "outputs": [
    {
     "data": {
      "image/png": "[encoded data removed]",
      "text/plain": [
       "<matplotlib.figure.Figure at 0x1a1ebdc0f0>"
      ]
     },
     "metadata": {},
     "output_type": "display_data"
    }
   ],
   "source": [
    "df.groupby(['market','codex_category'])['round_total'].sum().plot(kind='bar')\n",
    "plt.title('Funding by codex category');"
   ]
  },
  {
   "cell_type": "code",
   "execution_count": 61,
   "metadata": {},
   "outputs": [
    {
     "data": {
      "text/plain": [
       "([0, 1, 2, 3, 4, 5, 6, 7, 8], <a list of 9 Text xticklabel objects>)"
      ]
     },
     "execution_count": 61,
     "metadata": {},
     "output_type": "execute_result"
    },
    {
     "data": {
      "image/png": "[encoded data removed]",
      "text/plain": [
       "<matplotlib.figure.Figure at 0x1a2178fb38>"
      ]
     },
     "metadata": {},
     "output_type": "display_data"
    }
   ],
   "source": [
    "plt.scatter(x='codex_category', y='firm_age', s='round_total_size', data=df)\n",
    "plt.xticks(rotation=90)"
   ]
  },
  {
   "cell_type": "code",
   "execution_count": 62,
   "metadata": {},
   "outputs": [
    {
     "data": {
      "text/plain": [
       "([0, 1, 2, 3, 4, 5, 6, 7, 8], <a list of 9 Text xticklabel objects>)"
      ]
     },
     "execution_count": 62,
     "metadata": {},
     "output_type": "execute_result"
    },
    {
     "data": {
      "image/png": "[encoded data removed]",
      "text/plain": [
       "<matplotlib.figure.Figure at 0x1a218ebb38>"
      ]
     },
     "metadata": {},
     "output_type": "display_data"
    }
   ],
   "source": [
    "plt.scatter(x='codex_category', y='round_total_size', s='firm_age', data=df)\n",
    "plt.xticks(rotation=90)"
   ]
  },
  {
   "cell_type": "code",
   "execution_count": null,
   "metadata": {},
   "outputs": [],
   "source": []
  }
 ],
 "metadata": {
  "kernelspec": {
   "display_name": "Python 3",
   "language": "python",
   "name": "python3"
  },
  "language_info": {
   "codemirror_mode": {
    "name": "ipython",
    "version": 3
   },
   "file_extension": ".py",
   "mimetype": "text/x-python",
   "name": "python",
   "nbconvert_exporter": "python",
   "pygments_lexer": "ipython3",
   "version": "3.6.4"
  }
 },
 "nbformat": 4,
 "nbformat_minor": 2
}
